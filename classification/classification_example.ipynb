{
 "cells": [
  {
   "cell_type": "code",
   "execution_count": 1,
   "metadata": {},
   "outputs": [],
   "source": []
  },
  {
   "cell_type": "code",
   "execution_count": 6,
   "metadata": {},
   "outputs": [
    {
     "name": "stderr",
     "output_type": "stream",
     "text": [
      "loading Word2Vec object from ../models/SocialVec_v6_sg_all.model\n",
      "loading wv recursively from ../models/SocialVec_v6_sg_all.model.wv.* with mmap=None\n",
      "loading vectors from ../models/SocialVec_v6_sg_all.model.wv.vectors.npy with mmap=None\n",
      "setting ignored attribute vectors_norm to None\n",
      "loading vocabulary recursively from ../models/SocialVec_v6_sg_all.model.vocabulary.* with mmap=None\n",
      "loading trainables recursively from ../models/SocialVec_v6_sg_all.model.trainables.* with mmap=None\n",
      "loading syn1neg from ../models/SocialVec_v6_sg_all.model.trainables.syn1neg.npy with mmap=None\n",
      "setting ignored attribute cum_table to None\n",
      "Word2Vec lifecycle event {'fname': '../models/SocialVec_v6_sg_all.model', 'datetime': '2022-05-03T14:26:24.008047', 'gensim': '4.1.2', 'python': '3.9.9 (main, Nov 21 2021, 03:23:44) \\n[Clang 13.0.0 (clang-1300.0.29.3)]', 'platform': 'macOS-12.3.1-x86_64-i386-64bit', 'event': 'loaded'}\n"
     ]
    }
   ],
   "source": [
    "from gensim.models import Word2Vec\n",
    "SocialVec = Word2Vec.load(\"../models/SocialVec_v6_sg_all.model\")\n",
    "SocialVec.wv[\"813286\"]"
   ]
  },
  {
   "cell_type": "code",
   "execution_count": 8,
   "metadata": {},
   "outputs": [
    {
     "data": {
      "text/plain": [
       "100"
      ]
     },
     "execution_count": 8,
     "metadata": {},
     "output_type": "execute_result"
    }
   ],
   "source": []
  },
  {
   "cell_type": "code",
   "execution_count": 1,
   "metadata": {
    "ExecuteTime": {
     "end_time": "2021-05-01T15:54:46.870021Z",
     "start_time": "2021-05-01T15:54:43.335594Z"
    }
   },
   "outputs": [],
   "source": [
    "import numpy as np\n",
    "from tensorflow import keras\n",
    "from gensim.models import Word2Vec"
   ]
  },
  {
   "cell_type": "markdown",
   "metadata": {
    "ExecuteTime": {
     "end_time": "2021-04-29T17:00:29.945825Z",
     "start_time": "2021-04-29T17:00:29.943536Z"
    }
   },
   "source": [
    "## Select Attribute for prediction"
   ]
  },
  {
   "cell_type": "code",
   "execution_count": 2,
   "metadata": {
    "ExecuteTime": {
     "end_time": "2021-05-01T15:54:46.913490Z",
     "start_time": "2021-05-01T15:54:46.910473Z"
    }
   },
   "outputs": [],
   "source": [
    "attribute = \"gender\""
   ]
  },
  {
   "cell_type": "code",
   "execution_count": 3,
   "metadata": {
    "ExecuteTime": {
     "end_time": "2021-05-01T15:54:46.949421Z",
     "start_time": "2021-05-01T15:54:46.944889Z"
    }
   },
   "outputs": [],
   "source": [
    "\n",
    "attribuess = { \"gender\":    { 0 : \"Female\" ,    1: \"Male\"},\n",
    "                \"age\"   :    { 0 : \"Under25\" ,   1: \"Over25\"},\n",
    "                \"children\" : { 0 : \"No\" ,       1: \"Yes\"},\n",
    "                \"education\": { 0 : \"Degree\", 1: \"HighSchool\" },\n",
    "                \"income\" :   { 0 : \"High\" ,      1: \"Low\"},\n",
    "                \"political\" :{ 0 : \"Democrat\", 1: \"Republican\"},\n",
    "                \"race\" :     { 0 : \"Afr. American\",  1: \"Caucasian\"}\n",
    "                 }"
   ]
  },
  {
   "cell_type": "markdown",
   "metadata": {},
   "source": [
    "## Get list of popular users"
   ]
  },
  {
   "cell_type": "code",
   "execution_count": 9,
   "metadata": {
    "ExecuteTime": {
     "end_time": "2021-05-01T15:54:47.578065Z",
     "start_time": "2021-05-01T15:54:46.982675Z"
    }
   },
   "outputs": [],
   "source": [
    "popular_df = pd.read_pickle(\"../auxiliary/users_with_over_200_DETAILS.pkl\")\n",
    "popular_df = popular_df.filter(['user_id','screen_name','name'])"
   ]
  },
  {
   "cell_type": "markdown",
   "metadata": {},
   "source": [
    "## Load models"
   ]
  },
  {
   "cell_type": "code",
   "execution_count": 4,
   "metadata": {
    "ExecuteTime": {
     "end_time": "2021-05-01T15:54:47.703580Z",
     "start_time": "2021-05-01T15:54:47.636182Z"
    }
   },
   "outputs": [
    {
     "name": "stderr",
     "output_type": "stream",
     "text": [
      "2022-04-20 12:32:47.765156: I tensorflow/core/platform/cpu_feature_guard.cc:142] This TensorFlow binary is optimized with oneAPI Deep Neural Network Library (oneDNN) to use the following CPU instructions in performance-critical operations:  AVX2 FMA\n",
      "To enable them in other operations, rebuild TensorFlow with the appropriate compiler flags.\n",
      "Backing off send_request(...) for 0.3s (requests.exceptions.ConnectTimeout: HTTPSConnectionPool(host='api.segment.io', port=443): Max retries exceeded with url: /v1/batch (Caused by ConnectTimeoutError(<urllib3.connection.HTTPSConnection object at 0x1602b5460>, 'Connection to api.segment.io timed out. (connect timeout=15)')))\n",
      "Backing off send_request(...) for 1.8s (requests.exceptions.ConnectTimeout: HTTPSConnectionPool(host='api.segment.io', port=443): Max retries exceeded with url: /v1/batch (Caused by ConnectTimeoutError(<urllib3.connection.HTTPSConnection object at 0x1602918b0>, 'Connection to api.segment.io timed out. (connect timeout=15)')))\n",
      "Backing off send_request(...) for 1.8s (requests.exceptions.ConnectTimeout: HTTPSConnectionPool(host='api.segment.io', port=443): Max retries exceeded with url: /v1/batch (Caused by ConnectTimeoutError(<urllib3.connection.HTTPSConnection object at 0x1602b54c0>, 'Connection to api.segment.io timed out. (connect timeout=15)')))\n",
      "Backing off send_request(...) for 6.0s (requests.exceptions.ConnectTimeout: HTTPSConnectionPool(host='api.segment.io', port=443): Max retries exceeded with url: /v1/batch (Caused by ConnectTimeoutError(<urllib3.connection.HTTPSConnection object at 0x17e2a1dc0>, 'Connection to api.segment.io timed out. (connect timeout=15)')))\n"
     ]
    }
   ],
   "source": [
    "model = keras.models.load_model(f\"models/SocialVec_model_{attribute}.h5\")\n",
    "SocialVec_model_path = (\"../models/SocialVec_2022.model\")"
   ]
  },
  {
   "cell_type": "code",
   "execution_count": 10,
   "metadata": {
    "ExecuteTime": {
     "end_time": "2021-05-01T15:54:48.952008Z",
     "start_time": "2021-05-01T15:54:47.755362Z"
    }
   },
   "outputs": [
    {
     "name": "stderr",
     "output_type": "stream",
     "text": [
      "loading Word2Vec object from ../models/SocialVec_2022.model\n",
      "loading wv recursively from ../models/SocialVec_2022.model.wv.* with mmap=None\n",
      "loading vectors from ../models/SocialVec_2022.model.wv.vectors.npy with mmap=None\n",
      "loading syn1neg from ../models/SocialVec_2022.model.syn1neg.npy with mmap=None\n",
      "setting ignored attribute cum_table to None\n",
      "Word2Vec lifecycle event {'fname': '../models/SocialVec_2022.model', 'datetime': '2022-04-20T12:40:49.284981', 'gensim': '4.1.2', 'python': '3.9.9 (main, Nov 21 2021, 03:23:44) \\n[Clang 13.0.0 (clang-1300.0.29.3)]', 'platform': 'macOS-12.3.1-x86_64-i386-64bit', 'event': 'loaded'}\n"
     ]
    }
   ],
   "source": [
    "sv_model = Word2Vec.load(SocialVec_model_path)"
   ]
  },
  {
   "cell_type": "markdown",
   "metadata": {
    "ExecuteTime": {
     "end_time": "2021-04-29T13:29:13.708955Z",
     "start_time": "2021-04-29T13:29:13.694583Z"
    }
   },
   "source": [
    "## Auxilary functions"
   ]
  },
  {
   "cell_type": "code",
   "execution_count": 12,
   "metadata": {
    "ExecuteTime": {
     "end_time": "2021-05-01T15:54:56.674745Z",
     "start_time": "2021-05-01T15:54:56.670267Z"
    }
   },
   "outputs": [],
   "source": [
    "# possible values for by - 'user_id', 'screen_name'\n",
    "VALID_BY = {'user_id', 'screen_name'}\n",
    "\n",
    "def get_SocialVec_vector(account_list, by):\n",
    "    if by not in VALID_BY:\n",
    "        raise ValueError(f\"parameter \\'by\\' must be one of {VALID_STATUS}\")\n",
    "\n",
    "    popular_account_list = pd.DataFrame(account_list,columns=[by]).merge(popular_df, on=[by],how='inner').user_id.tolist()\n",
    "    \n",
    "    model_array = []\n",
    "    for account in popular_account_list:\n",
    "        if account in sv_model.wv.key_to_index..keys():\n",
    "            model_array.append(account)\n",
    "    \n",
    "    return np.mean(sv_model.wv[model_array], axis=0)\n"
   ]
  },
  {
   "cell_type": "markdown",
   "metadata": {
    "ExecuteTime": {
     "end_time": "2021-04-29T13:03:35.169975Z",
     "start_time": "2021-04-29T13:03:35.165258Z"
    }
   },
   "source": [
    "## Prediction example by list of ids:\n",
    "This is a list of IDs of users that a user follows on Twitter.\n",
    "\n",
    "SocialVec can predict the user's attributes based on the users they follow."
   ]
  },
  {
   "cell_type": "code",
   "execution_count": 13,
   "metadata": {
    "ExecuteTime": {
     "end_time": "2021-05-01T15:39:52.794900Z",
     "start_time": "2021-05-01T15:39:52.358292Z"
    }
   },
   "outputs": [
    {
     "ename": "AttributeError",
     "evalue": "'dict' object has no attribute 'vocab'",
     "output_type": "error",
     "traceback": [
      "\u001b[0;31m---------------------------------------------------------------------------\u001b[0m",
      "\u001b[0;31mAttributeError\u001b[0m                            Traceback (most recent call last)",
      "\u001b[0;32m/var/folders/mx/0jdxb4v947j79466wqz44d_w0000gr/T/ipykernel_69513/796624508.py\u001b[0m in \u001b[0;36m<module>\u001b[0;34m\u001b[0m\n\u001b[1;32m      2\u001b[0m \u001b[0;34m\u001b[0m\u001b[0m\n\u001b[1;32m      3\u001b[0m \u001b[0;34m\u001b[0m\u001b[0m\n\u001b[0;32m----> 4\u001b[0;31m \u001b[0memdeddings\u001b[0m \u001b[0;34m=\u001b[0m \u001b[0mget_SocialVec_vector\u001b[0m\u001b[0;34m(\u001b[0m\u001b[0mid_list\u001b[0m\u001b[0;34m,\u001b[0m\u001b[0;34m'user_id'\u001b[0m\u001b[0;34m)\u001b[0m\u001b[0;34m\u001b[0m\u001b[0;34m\u001b[0m\u001b[0m\n\u001b[0m\u001b[1;32m      5\u001b[0m \u001b[0mprediction\u001b[0m \u001b[0;34m=\u001b[0m \u001b[0mmodel\u001b[0m\u001b[0;34m.\u001b[0m\u001b[0mpredict\u001b[0m\u001b[0;34m(\u001b[0m\u001b[0memdeddings\u001b[0m\u001b[0;34m.\u001b[0m\u001b[0mreshape\u001b[0m\u001b[0;34m(\u001b[0m\u001b[0;36m1\u001b[0m\u001b[0;34m,\u001b[0m \u001b[0;36m100\u001b[0m\u001b[0;34m)\u001b[0m\u001b[0;34m)\u001b[0m\u001b[0;34m\u001b[0m\u001b[0;34m\u001b[0m\u001b[0m\n\u001b[1;32m      6\u001b[0m \u001b[0mprint\u001b[0m \u001b[0;34m(\u001b[0m\u001b[0;34mf\"Attribute: {attribute}. Predicted class: {attribuess[attribute][prediction[0][0].round()]}, classification score: {prediction[0][0]:.2f}\"\u001b[0m\u001b[0;34m)\u001b[0m\u001b[0;34m\u001b[0m\u001b[0;34m\u001b[0m\u001b[0m\n",
      "\u001b[0;32m/var/folders/mx/0jdxb4v947j79466wqz44d_w0000gr/T/ipykernel_69513/2580993891.py\u001b[0m in \u001b[0;36mget_SocialVec_vector\u001b[0;34m(account_list, by)\u001b[0m\n\u001b[1;32m     10\u001b[0m     \u001b[0mmodel_array\u001b[0m \u001b[0;34m=\u001b[0m \u001b[0;34m[\u001b[0m\u001b[0;34m]\u001b[0m\u001b[0;34m\u001b[0m\u001b[0;34m\u001b[0m\u001b[0m\n\u001b[1;32m     11\u001b[0m     \u001b[0;32mfor\u001b[0m \u001b[0maccount\u001b[0m \u001b[0;32min\u001b[0m \u001b[0mpopular_account_list\u001b[0m\u001b[0;34m:\u001b[0m\u001b[0;34m\u001b[0m\u001b[0;34m\u001b[0m\u001b[0m\n\u001b[0;32m---> 12\u001b[0;31m         \u001b[0;32mif\u001b[0m \u001b[0maccount\u001b[0m \u001b[0;32min\u001b[0m \u001b[0msv_model\u001b[0m\u001b[0;34m.\u001b[0m\u001b[0mwv\u001b[0m\u001b[0;34m.\u001b[0m\u001b[0mkey_to_index\u001b[0m\u001b[0;34m.\u001b[0m\u001b[0mvocab\u001b[0m\u001b[0;34m:\u001b[0m\u001b[0;34m\u001b[0m\u001b[0;34m\u001b[0m\u001b[0m\n\u001b[0m\u001b[1;32m     13\u001b[0m             \u001b[0mmodel_array\u001b[0m\u001b[0;34m.\u001b[0m\u001b[0mappend\u001b[0m\u001b[0;34m(\u001b[0m\u001b[0maccount\u001b[0m\u001b[0;34m)\u001b[0m\u001b[0;34m\u001b[0m\u001b[0;34m\u001b[0m\u001b[0m\n\u001b[1;32m     14\u001b[0m \u001b[0;34m\u001b[0m\u001b[0m\n",
      "\u001b[0;31mAttributeError\u001b[0m: 'dict' object has no attribute 'vocab'"
     ]
    }
   ],
   "source": [
    "id_list = ['759251', '813286', '1434251', '2467791', '11178902', '11350892', '11856932', '13393052', '13793552', '14499829', '14776983', '15678511', '15846372', '16312576', '17291393', '17525171', '17783278', '17874544', '19638927', '19816859', '20015311', '20117923', '20609518', '20629645', '21094301', '23783240', '24216951', '25321854', '25527618', '26813101', '32767923', '34549808', '35771819', '36502037', '44949890', '46503181', '50374439', '52905639', '59522488', '72644483', '72904247', '80333792', '90173824', '91126478', '95731075', '97739866', '103686030', '107199276', '123015364', '135272779', '144925401', '145314369', '158848407', '180505807', '182199162', '204832963', '221912526', '232268199', '234538960', '250205792', '259382027', '259387453', '275315776', '354133033', '357683633', '407340870', '408151651', '431071870', '459786401', '460485003', '487144778', '487718304', '546447987', '552321387', '625022363', '736417956', '855103736', '892219807', '952624494', '974384082', '1120167192', '1128218821', '1180675964', '1344919338', '1388508253', '1604444052', '1621318627', '1654543044', '1660468830', '1674061298', '1950037290', '1959556592', '2161228906', '2187516343', '2233154425', '2269093894', '2282673787', '2318324798', '2369335940', '2370627199', '2736215883', '3092443319', '3096642344', '3226351612', '3407878233', '3683068757', '4435404613', '781222374414880768', '790659465951358976', '820378690920058880', '821520293122351104', '832089209007636480', '846137120209190912', '847154816593752064', '847198791031762944', '851506270280470528', '863087589531697152', '871164209140080640', '900810786720952320', '913203265466257408', '25071402', '241174677']\n",
    "\n",
    "\n",
    "emdeddings = get_SocialVec_vector(id_list,'user_id')\n",
    "prediction = model.predict(emdeddings.reshape(1, 100))\n",
    "print (f\"Attribute: {attribute}. Predicted class: {attribuess[attribute][prediction[0][0].round()]}, classification score: {prediction[0][0]:.2f}\")"
   ]
  },
  {
   "cell_type": "markdown",
   "metadata": {},
   "source": [
    "## Prediction example by list of user names:"
   ]
  },
  {
   "cell_type": "code",
   "execution_count": null,
   "metadata": {
    "ExecuteTime": {
     "end_time": "2021-04-29T16:53:57.983691Z",
     "start_time": "2021-04-29T16:53:57.686879Z"
    }
   },
   "outputs": [],
   "source": [
    "username_list = ['madisonbeer',\t'FifthHarmony',\t'ltsQueenB',\t'selenagomez',\t'rihanna',\t'sza',\t'SabrinaAnnLynn',\t'LittleMix',\t'taylorswift13',\t'justinbieber',\t'Kehlani',\t'MariahCarey',\t'zaralarsson',\t'Anitta',\t'destinyschild',\t'ShawnMendes',\t'alinabaraz',\t'Meghan_Trainor',\t'BrunoMars',\t'Zendaya',\t'JoJogirandi',\t'NathanSykes',\t'ladygaga',\t'BebeRexha',\t'HaileeSteinfeld',\t'charlieputh',\t'Mabel',\t'LanaDelRey',\t'lorde',\t'Adele',\t'britneyspears',\t'JessieJ',\t'VictoriaJustice',\t'Fergie',\t'theweeknd',\t'bridgitmendler',\t'ToveLo',\t'samsmith',\t'xtina',\t'nickjonas',\t'MirandaCosgrove',\t'JordinSparks',\t'RealWhitney',\t'ciara',\t'onedirection',\t'Labrinth',\t'kesha_army',\t'jtimberlake',\t'KekePalmer',\t'JLo',\t'VanessaHudgens',\t'DoveCameron',\t'carlyraejepsen',\t'DBradbery',\t'CassieSuper',\t'elliegoulding',\t'AvrilLavigne',\t'AaliyahHaughton',\t'realobietrice',\t'Statquo',\t'drdre',\t'hopsin',\t'TRICKTRICKGS',\t'nasrinuri',\t'logic_magazine',\t'JColeNC',\t'kendricklamar',\t'TechN9ne',\t'thegame',\t'Tip',\t'DMX',\t'bobatl',\t'icecube',\t'G_Eazy',\t'therealredman',\t'youcancallmeLV',\t'MobbDeep',\t'SnoopDogg',\t'BustaRhymes',\t'ImmortalTech',\t'lmkidcudi',\t'Ludacris',\t'ltsDrrake',\t'JoeBudden',\t'MacMilIIer',\t'ChrisWebby']\n",
    "\n",
    "emdeddings = get_SocialVec_vector(username_list,'screen_name')\n",
    "prediction = model.predict(emdeddings.reshape(1, 100))\n",
    "print (f\"Predicted class: {attribuess[attribute][prediction[0][0].round()]}, classification score: {prediction[0][0]:.2f}\")"
   ]
  },
  {
   "cell_type": "markdown",
   "metadata": {},
   "source": [
    "## Loop through all models"
   ]
  },
  {
   "cell_type": "code",
   "execution_count": 9,
   "metadata": {
    "ExecuteTime": {
     "end_time": "2021-05-01T15:55:01.627640Z",
     "start_time": "2021-05-01T15:55:00.664059Z"
    }
   },
   "outputs": [
    {
     "data": {
      "application/javascript": "\n        if (window._pyforest_update_imports_cell) { window._pyforest_update_imports_cell('import pandas as pd'); }\n    ",
      "text/plain": [
       "<IPython.core.display.Javascript object>"
      ]
     },
     "metadata": {},
     "output_type": "display_data"
    },
    {
     "name": "stdout",
     "output_type": "stream",
     "text": [
      "gender\n",
      "Attribute: gender. Predicted class: Male, classification score: 0.93\n",
      "age\n",
      "Attribute: age. Predicted class: Over25, classification score: 0.85\n",
      "children\n",
      "Attribute: children. Predicted class: Yes, classification score: 0.20\n",
      "education\n",
      "Attribute: education. Predicted class: Degree, classification score: 0.12\n",
      "income\n",
      "WARNING:tensorflow:5 out of the last 5 calls to <function Model.make_predict_function.<locals>.predict_function at 0x7fa2fac3a040> triggered tf.function retracing. Tracing is expensive and the excessive number of tracings could be due to (1) creating @tf.function repeatedly in a loop, (2) passing tensors with different shapes, (3) passing Python objects instead of tensors. For (1), please define your @tf.function outside of the loop. For (2), @tf.function has experimental_relax_shapes=True option that relaxes argument shapes that can avoid unnecessary retracing. For (3), please refer to https://www.tensorflow.org/tutorials/customization/performance#python_or_tensor_args and https://www.tensorflow.org/api_docs/python/tf/function for  more details.\n",
      "Attribute: income. Predicted class: High, classification score: 0.23\n",
      "political\n",
      "WARNING:tensorflow:6 out of the last 6 calls to <function Model.make_predict_function.<locals>.predict_function at 0x7fa2fab92790> triggered tf.function retracing. Tracing is expensive and the excessive number of tracings could be due to (1) creating @tf.function repeatedly in a loop, (2) passing tensors with different shapes, (3) passing Python objects instead of tensors. For (1), please define your @tf.function outside of the loop. For (2), @tf.function has experimental_relax_shapes=True option that relaxes argument shapes that can avoid unnecessary retracing. For (3), please refer to https://www.tensorflow.org/tutorials/customization/performance#python_or_tensor_args and https://www.tensorflow.org/api_docs/python/tf/function for  more details.\n",
      "Attribute: political. Predicted class: Republican, classification score: 0.26\n",
      "race\n",
      "WARNING:tensorflow:7 out of the last 7 calls to <function Model.make_predict_function.<locals>.predict_function at 0x7fa2fa9dc9d0> triggered tf.function retracing. Tracing is expensive and the excessive number of tracings could be due to (1) creating @tf.function repeatedly in a loop, (2) passing tensors with different shapes, (3) passing Python objects instead of tensors. For (1), please define your @tf.function outside of the loop. For (2), @tf.function has experimental_relax_shapes=True option that relaxes argument shapes that can avoid unnecessary retracing. For (3), please refer to https://www.tensorflow.org/tutorials/customization/performance#python_or_tensor_args and https://www.tensorflow.org/api_docs/python/tf/function for  more details.\n",
      "Attribute: race. Predicted class: Caucasian, classification score: 0.95\n"
     ]
    }
   ],
   "source": [
    "id_list = ['12',\t'5215',\t'10350',\t'13666',\t'746323',\t'774096',\t'782310',\t'783214',\t'813286',\t'816653',\t'939091',\t'1145991',\t'2110241',\t'2142731',\t'2803191',\t'3533231',\t'3819701',\t'4641021',\t'4992791',\t'5746402',\t'5746452',\t'5868402',\t'6539272',\t'6899022',\t'7144422',\t'7855062',\t'8267732',\t'8515852',\t'8518802',\t'8880932',\t'9027932',\t'9566562',\t'9934462',\t'10191272',\t'10668202',\t'11415252',\t'11457552',\t'11518842',\t'11532962',\t'11789832',\t'11900172',\t'12091452',\t'12299242',\t'12427372',\t'12666842',\t'13197402',\t'13247252',\t'13727212',\t'14097392',\t'14120151',\t'14286920',\t'14316226',\t'14372486',\t'14482447',\t'14622002',\t'14637199',\t'14685758',\t'14695435',\t'14742222',\t'14749606',\t'14962763',\t'15227791',\t'15285521',\t'15394051',\t'15492359',\t'15639302',\t'15693493',\t'15788402',\t'15948437',\t'15948668',\t'15972075',\t'16070716',\t'16109987',\t'16134540',\t'16288972',\t'16343608',\t'16350166',\t'16527570',\t'16786960',\t'16866902',\t'16998020',\t'17003765',\t'17017716',\t'17173207',\t'17371109',\t'17467036',\t'17503180',\t'17617070',\t'17689864',\t'17804297',\t'17814635',\t'17834236',\t'17997789',\t'18267528',\t'18318677',\t'18384527',\t'18435258',\t'18498684',\t'18530185',\t'18576537',\t'18600746',\t'18602481',\t'18656830',\t'18794294',\t'18999261',\t'19058681',\t'19147756',\t'19278682',\t'19436506',\t'19604140',\t'20054833',\t'20175513',\t'20248824',\t'20314832',\t'20333461',\t'20536157',\t'20609518',\t'20759856',\t'20851583',\t'21246360',\t'21452168',\t'22209176',\t'24518962',\t'24751413',\t'25283065',\t'25768384',\t'26541509',\t'26765003',\t'27230728',\t'27457788',\t'27831488',\t'27961877',\t'28016498',\t'28299819',\t'29527296',\t'29657619',\t'30220083',\t'30261067',\t'30313925',\t'30364057',\t'30600062',\t'30714435',\t'30824673',\t'30918471',\t'30992735',\t'31127729',\t'31839540',\t'31959965',\t'32187854',\t'32394533',\t'32475011',\t'32857286',\t'32937363',\t'33271878',\t'33893647',\t'34714943',\t'35031708',\t'35342621',\t'35714839',\t'36392966',\t'36440780',\t'36624724',\t'36937995',\t'37389101',\t'37516414',\t'37759563',\t'38816847',\t'39022533',\t'39227313',\t'39265056',\t'39335056',\t'39482323',\t'40000662',\t'40656797',\t'41573981',\t'42399845',\t'42467023',\t'42819952',\t'43197818',\t'44302805',\t'45099966',\t'45295375',\t'45529940',\t'45612245',\t'45813273',\t'45867343',\t'46342682',\t'46661844',\t'46847109',\t'47040514',\t'47181372',\t'47311701',\t'47708890',\t'47821985',\t'47873024',\t'48081518',\t'48436234',\t'48478726',\t'48501623',\t'48927113',\t'49258481',\t'49259042',\t'49556565',\t'49913605',\t'50308323',\t'50368413',\t'50393960',\t'50427254',\t'50997224',\t'51037171',\t'51629130',\t'51636779',\t'52672963',\t'52992670',\t'53224493',\t'54153603',\t'54846519',\t'54964143',\t'56111650',\t'57107167',\t'57535118',\t'58737746',\t'59540650',\t'60012117',\t'61415503',\t'61559439',\t'62082091',\t'62581962',\t'63081789',\t'63146190',\t'63292897',\t'63642511',\t'64228804',\t'65449403',\t'66074283',\t'66369206',\t'66786078',\t'67182352',\t'69590040',\t'69832179',\t'70456698',\t'71041908',\t'72036635',\t'76525772',\t'78789634',\t'80316147',\t'82282572',\t'82680149',\t'84287043',\t'85781031',\t'86895762',\t'87315607',\t'89028456',\t'92629998',\t'93200004',\t'93937897',\t'93957809',\t'95438524',\t'96565035',\t'98744822',\t'104265534',\t'107135644',\t'114562409',\t'114894966',\t'115034742',\t'115485051',\t'116126280',\t'117007076',\t'117467092',\t'122303383',\t'122410793',\t'122415055',\t'130430155',\t'131294858',\t'132634312',\t'136879221',\t'138840988',\t'139322371',\t'143453881',\t'145851433',\t'147190009',\t'153966123',\t'154280902',\t'156804673',\t'158743698',\t'165302999',\t'165709814',\t'165879997',\t'167326889',\t'169689723',\t'172214420',\t'175098387',\t'175675929',\t'177542979',\t'177912908',\t'180505807',\t'180710035',\t'181170415',\t'181613510',\t'183305551',\t'185260477',\t'192920667',\t'193629687',\t'194066925',\t'195368220',\t'197697723',\t'205311290',\t'206075826',\t'207665930',\t'211483507',\t'212868561',\t'216256233',\t'216939636',\t'218315534',\t'224161598',\t'224811526',\t'228367582',\t'233384112',\t'235479402',\t'238674939',\t'243235100',\t'254107028',\t'263571890',\t'280457780',\t'281326158',\t'287610527',\t'307215458',\t'307259678',\t'314765296',\t'315023242',\t'316291431',\t'317177234',\t'320734293',\t'326013630',\t'328447836',\t'341218443',\t'348437934',\t'358185808',\t'370564325',\t'382806976',\t'389214426',\t'393271504',\t'397145040',\t'401812842',\t'403511277',\t'412219206',\t'414344520',\t'415514364',\t'426533453',\t'426736503',\t'437235053',\t'448199438',\t'461300470',\t'475988505',\t'478956538',\t'485547966',\t'486925719',\t'490521144',\t'503992119',\t'514082785',\t'514646075',\t'532297687',\t'542503609',\t'551723155',\t'561365549',\t'582251088',\t'623499849',\t'630053052',\t'702302583',\t'702437971',\t'704825179',\t'747822822',\t'757303975',\t'773526500',\t'785240803',\t'807924134',\t'870848335',\t'887089058',\t'893081574',\t'905788424',\t'949597896',\t'962130295',\t'965027346',\t'1076321995',\t'1179469664',\t'1308239858',\t'1316023094',\t'1330457336',\t'1339835893',\t'1343932878',\t'1378279002',\t'1412461099',\t'1430346577',\t'1472331595',\t'1536791610',\t'1567869552',\t'1849423920',\t'2150685024',\t'2180579797',\t'2291694662',\t'2297568343',\t'2353879531',\t'2375907092',\t'2382923779',\t'2434552658',\t'2443570872',\t'2457671952',\t'2465737627',\t'2552064793',\t'2561784308',\t'2705883470',\t'2746969362',\t'2760345626',\t'2798204480',\t'2858259506',\t'2879887914',\t'2895770934',\t'2900258011',\t'2900440577',\t'2946300174',\t'2949131574',\t'2950689631',\t'3013253012',\t'3018996741',\t'3020114984',\t'3119672637',\t'3165759859',\t'3178567381',\t'3240518502',\t'3243028244',\t'3277045910',\t'3282859598',\t'3289609770',\t'3304973233',\t'3995179834',\t'4009506983',\t'4038351723',\t'4115184972',\t'4127000969',\t'4150108651',\t'4194417913',\t'4296263602',\t'4715743993',\t'4773933934',\t'702802855372128000']\n",
    "emdeddings = get_SocialVec_vector(id_list,'user_id')\n",
    "\n",
    "\n",
    "\n",
    "for attribute in list(attribuess.keys()):\n",
    "    print (attribute)\n",
    "    model = keras.models.load_model(f\"models/SocialVec_model_{attribute}.h5\")\n",
    "    \n",
    "    prediction = model.predict(emdeddings.reshape(1, 100))\n",
    "    print (f\"Attribute: {attribute}. Predicted class: {attribuess[attribute][prediction[0][0].round()]}, classification score: {prediction[0][0]:.2f}\")\n",
    "\n",
    "    "
   ]
  },
  {
   "cell_type": "code",
   "execution_count": null,
   "metadata": {},
   "outputs": [],
   "source": []
  }
 ],
 "metadata": {
  "interpreter": {
   "hash": "aee8b7b246df8f9039afb4144a1f6fd8d2ca17a180786b69acc140d282b71a49"
  },
  "kernelspec": {
   "display_name": "Python 3.8.3 64-bit",
   "language": "python",
   "name": "python3"
  },
  "language_info": {
   "codemirror_mode": {
    "name": "ipython",
    "version": 3
   },
   "file_extension": ".py",
   "mimetype": "text/x-python",
   "name": "python",
   "nbconvert_exporter": "python",
   "pygments_lexer": "ipython3",
   "version": "3.9.12"
  },
  "toc": {
   "base_numbering": 1,
   "nav_menu": {},
   "number_sections": true,
   "sideBar": true,
   "skip_h1_title": false,
   "title_cell": "Table of Contents",
   "title_sidebar": "Contents",
   "toc_cell": false,
   "toc_position": {},
   "toc_section_display": true,
   "toc_window_display": false
  },
  "varInspector": {
   "cols": {
    "lenName": 16,
    "lenType": 16,
    "lenVar": 40
   },
   "kernels_config": {
    "python": {
     "delete_cmd_postfix": "",
     "delete_cmd_prefix": "del ",
     "library": "var_list.py",
     "varRefreshCmd": "print(var_dic_list())"
    },
    "r": {
     "delete_cmd_postfix": ") ",
     "delete_cmd_prefix": "rm(",
     "library": "var_list.r",
     "varRefreshCmd": "cat(var_dic_list()) "
    }
   },
   "types_to_exclude": [
    "module",
    "function",
    "builtin_function_or_method",
    "instance",
    "_Feature"
   ],
   "window_display": false
  }
 },
 "nbformat": 4,
 "nbformat_minor": 4
}
