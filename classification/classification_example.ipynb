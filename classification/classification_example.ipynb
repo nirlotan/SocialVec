{
 "cells": [
  {
   "cell_type": "code",
   "execution_count": 1,
   "metadata": {
    "ExecuteTime": {
     "end_time": "2021-04-29T16:53:55.550374Z",
     "start_time": "2021-04-29T16:53:51.596451Z"
    }
   },
   "outputs": [],
   "source": [
    "import numpy as np\n",
    "from tensorflow import keras\n",
    "from gensim.models import Word2Vec"
   ]
  },
  {
   "cell_type": "markdown",
   "metadata": {
    "ExecuteTime": {
     "end_time": "2021-04-29T17:00:29.945825Z",
     "start_time": "2021-04-29T17:00:29.943536Z"
    }
   },
   "source": [
    "## Select Attribute for prediction"
   ]
  },
  {
   "cell_type": "code",
   "execution_count": 48,
   "metadata": {
    "ExecuteTime": {
     "end_time": "2021-04-29T16:58:53.234915Z",
     "start_time": "2021-04-29T16:58:53.232576Z"
    }
   },
   "outputs": [],
   "source": [
    "attribute = \"income\""
   ]
  },
  {
   "cell_type": "code",
   "execution_count": 49,
   "metadata": {
    "ExecuteTime": {
     "end_time": "2021-04-29T16:58:53.610093Z",
     "start_time": "2021-04-29T16:58:53.606183Z"
    }
   },
   "outputs": [],
   "source": [
    "\n",
    "attribuess = { \"gender\":    { 0 : \"Female\" ,    1: \"Male\"},\n",
    "            \"age\"   :    { 0 : \"Under25\" ,   1: \"Over25\"},\n",
    "            \"children\" : { 0 : \"Yes\" ,       1: \"No\"},\n",
    "            \"education\": { 0 : \"Degree\", 1: \"HighSchool\" },\n",
    "            \"income\" :   { 0 : \"High\" ,      1: \"Low\"},\n",
    "            \"political\" :{ 0 : \"Republican\", 1: \"Democrat\"},\n",
    "            \"race\" :     { 0 : \"Afr. American\",  1: \"Caucasian\"}\n",
    "          }"
   ]
  },
  {
   "cell_type": "markdown",
   "metadata": {},
   "source": [
    "## Get list of popular users"
   ]
  },
  {
   "cell_type": "code",
   "execution_count": 50,
   "metadata": {
    "ExecuteTime": {
     "end_time": "2021-04-29T16:58:54.546812Z",
     "start_time": "2021-04-29T16:58:54.026234Z"
    }
   },
   "outputs": [
    {
     "data": {
      "application/javascript": [
       "\n",
       "        if (window._pyforest_update_imports_cell) { window._pyforest_update_imports_cell('import pandas as pd'); }\n",
       "    "
      ],
      "text/plain": [
       "<IPython.core.display.Javascript object>"
      ]
     },
     "metadata": {},
     "output_type": "display_data"
    }
   ],
   "source": [
    "popular_df = pd.read_pickle(\"../users_with_over_200_DETAILS.pkl\")\n",
    "popular_df = popular_df.filter(['user_id','screen_name','name'])"
   ]
  },
  {
   "cell_type": "markdown",
   "metadata": {},
   "source": [
    "## Load models"
   ]
  },
  {
   "cell_type": "code",
   "execution_count": 51,
   "metadata": {
    "ExecuteTime": {
     "end_time": "2021-04-29T16:58:54.650785Z",
     "start_time": "2021-04-29T16:58:54.607560Z"
    }
   },
   "outputs": [],
   "source": [
    "model = keras.models.load_model(f\"models/SocialVec_model_{attribute}.h5\")\n",
    "SocialVec_model_path = (\"../item2vec_v3_350.model\")"
   ]
  },
  {
   "cell_type": "code",
   "execution_count": 52,
   "metadata": {
    "ExecuteTime": {
     "end_time": "2021-04-29T16:58:55.784257Z",
     "start_time": "2021-04-29T16:58:54.711884Z"
    }
   },
   "outputs": [],
   "source": [
    "w2v_model = Word2Vec.load(SocialVec_model_path)"
   ]
  },
  {
   "cell_type": "markdown",
   "metadata": {
    "ExecuteTime": {
     "end_time": "2021-04-29T13:29:13.708955Z",
     "start_time": "2021-04-29T13:29:13.694583Z"
    }
   },
   "source": [
    "## Auxilary functions"
   ]
  },
  {
   "cell_type": "code",
   "execution_count": 53,
   "metadata": {
    "ExecuteTime": {
     "end_time": "2021-04-29T16:58:55.859780Z",
     "start_time": "2021-04-29T16:58:55.854834Z"
    }
   },
   "outputs": [],
   "source": [
    "# possible values for by - 'user_id', 'screen_name'\n",
    "VALID_BY = {'user_id', 'screen_name'}\n",
    "\n",
    "def get_SocialVec_vector(account_list, by):\n",
    "    if by not in VALID_BY:\n",
    "        raise ValueError(f\"parameter \\'by\\' must be one of {VALID_STATUS}\")\n",
    "\n",
    "    popular_account_list = pd.DataFrame(account_list,columns=[by]).merge(popular_df, on=[by],how='inner').user_id.tolist()\n",
    "    \n",
    "    model_array = []\n",
    "    for account in popular_account_list:\n",
    "        if account in w2v_model.wv.vocab:\n",
    "            model_array.append(account)\n",
    "    \n",
    "    return np.mean(w2v_model.wv[popular_account_list], axis=0)\n"
   ]
  },
  {
   "cell_type": "markdown",
   "metadata": {
    "ExecuteTime": {
     "end_time": "2021-04-29T13:03:35.169975Z",
     "start_time": "2021-04-29T13:03:35.165258Z"
    }
   },
   "source": [
    "## Prediction example by list of ids:"
   ]
  },
  {
   "cell_type": "code",
   "execution_count": 57,
   "metadata": {
    "ExecuteTime": {
     "end_time": "2021-04-29T17:00:03.840863Z",
     "start_time": "2021-04-29T17:00:03.468563Z"
    }
   },
   "outputs": [
    {
     "data": {
      "application/javascript": [
       "\n",
       "        if (window._pyforest_update_imports_cell) { window._pyforest_update_imports_cell('import pandas as pd'); }\n",
       "    "
      ],
      "text/plain": [
       "<IPython.core.display.Javascript object>"
      ]
     },
     "metadata": {},
     "output_type": "display_data"
    },
    {
     "name": "stdout",
     "output_type": "stream",
     "text": [
      "Attribute: income. Predicted class: Low, classification score: 0.95\n"
     ]
    }
   ],
   "source": [
    "id_list = ['759251', '813286', '1434251', '2467791', '11178902', '11350892', '11856932', '13393052', '13793552', '14499829', '14776983', '15678511', '15846372', '16312576', '17291393', '17525171', '17783278', '17874544', '19638927', '19816859', '20015311', '20117923', '20609518', '20629645', '21094301', '23783240', '24216951', '25321854', '25527618', '26813101', '32767923', '34549808', '35771819', '36502037', '44949890', '46503181', '50374439', '52905639', '59522488', '72644483', '72904247', '80333792', '90173824', '91126478', '95731075', '97739866', '103686030', '107199276', '123015364', '135272779', '144925401', '145314369', '158848407', '180505807', '182199162', '204832963', '221912526', '232268199', '234538960', '250205792', '259382027', '259387453', '275315776', '354133033', '357683633', '407340870', '408151651', '431071870', '459786401', '460485003', '487144778', '487718304', '546447987', '552321387', '625022363', '736417956', '855103736', '892219807', '952624494', '974384082', '1120167192', '1128218821', '1180675964', '1344919338', '1388508253', '1604444052', '1621318627', '1654543044', '1660468830', '1674061298', '1950037290', '1959556592', '2161228906', '2187516343', '2233154425', '2269093894', '2282673787', '2318324798', '2369335940', '2370627199', '2736215883', '3092443319', '3096642344', '3226351612', '3407878233', '3683068757', '4435404613', '781222374414880768', '790659465951358976', '820378690920058880', '821520293122351104', '832089209007636480', '846137120209190912', '847154816593752064', '847198791031762944', '851506270280470528', '863087589531697152', '871164209140080640', '900810786720952320', '913203265466257408', '25071402', '241174677']\n",
    "\n",
    "emdeddings = get_SocialVec_vector(id_list,'user_id')\n",
    "prediction = model.predict(emdeddings.reshape(1, 100))\n",
    "print (f\"Attribute: {attribute}. Predicted class: {attribuess[attribute][prediction[0][0].round()]}, classification score: {prediction[0][0]:.2f}\")"
   ]
  },
  {
   "cell_type": "markdown",
   "metadata": {},
   "source": [
    "## Prediction example by list of user names:"
   ]
  },
  {
   "cell_type": "code",
   "execution_count": 9,
   "metadata": {
    "ExecuteTime": {
     "end_time": "2021-04-29T16:53:57.983691Z",
     "start_time": "2021-04-29T16:53:57.686879Z"
    }
   },
   "outputs": [
    {
     "data": {
      "application/javascript": [
       "\n",
       "        if (window._pyforest_update_imports_cell) { window._pyforest_update_imports_cell('import pandas as pd'); }\n",
       "    "
      ],
      "text/plain": [
       "<IPython.core.display.Javascript object>"
      ]
     },
     "metadata": {},
     "output_type": "display_data"
    },
    {
     "name": "stdout",
     "output_type": "stream",
     "text": [
      "Predicted class: Afr. American, classification score: 0.82\n"
     ]
    }
   ],
   "source": [
    "username_list = ['madisonbeer',\t'FifthHarmony',\t'ltsQueenB',\t'selenagomez',\t'rihanna',\t'sza',\t'SabrinaAnnLynn',\t'LittleMix',\t'taylorswift13',\t'justinbieber',\t'Kehlani',\t'MariahCarey',\t'zaralarsson',\t'Anitta',\t'destinyschild',\t'ShawnMendes',\t'alinabaraz',\t'Meghan_Trainor',\t'BrunoMars',\t'Zendaya',\t'JoJogirandi',\t'NathanSykes',\t'ladygaga',\t'BebeRexha',\t'HaileeSteinfeld',\t'charlieputh',\t'Mabel',\t'LanaDelRey',\t'lorde',\t'Adele',\t'britneyspears',\t'JessieJ',\t'VictoriaJustice',\t'Fergie',\t'theweeknd',\t'bridgitmendler',\t'ToveLo',\t'samsmith',\t'xtina',\t'nickjonas',\t'MirandaCosgrove',\t'JordinSparks',\t'RealWhitney',\t'ciara',\t'onedirection',\t'Labrinth',\t'kesha_army',\t'jtimberlake',\t'KekePalmer',\t'JLo',\t'VanessaHudgens',\t'DoveCameron',\t'carlyraejepsen',\t'DBradbery',\t'CassieSuper',\t'elliegoulding',\t'AvrilLavigne',\t'AaliyahHaughton',\t'realobietrice',\t'Statquo',\t'drdre',\t'hopsin',\t'TRICKTRICKGS',\t'nasrinuri',\t'logic_magazine',\t'JColeNC',\t'kendricklamar',\t'TechN9ne',\t'thegame',\t'Tip',\t'DMX',\t'bobatl',\t'icecube',\t'G_Eazy',\t'therealredman',\t'youcancallmeLV',\t'MobbDeep',\t'SnoopDogg',\t'BustaRhymes',\t'ImmortalTech',\t'lmkidcudi',\t'Ludacris',\t'ltsDrrake',\t'JoeBudden',\t'MacMilIIer',\t'ChrisWebby']\n",
    "\n",
    "emdeddings = get_SocialVec_vector(username_list,'screen_name')\n",
    "prediction = model.predict(emdeddings.reshape(1, 100))\n",
    "print (f\"Predicted class: {attribuess[attribute][prediction[0][0].round()]}, classification score: {prediction[0][0]:.2f}\")"
   ]
  }
 ],
 "metadata": {
  "kernelspec": {
   "display_name": "Python 3.8.3 64-bit",
   "language": "python",
   "name": "python38364bitc826dcc705f3421fa626a7aa062cf49f"
  },
  "language_info": {
   "codemirror_mode": {
    "name": "ipython",
    "version": 3
   },
   "file_extension": ".py",
   "mimetype": "text/x-python",
   "name": "python",
   "nbconvert_exporter": "python",
   "pygments_lexer": "ipython3",
   "version": "3.8.3"
  },
  "toc": {
   "base_numbering": 1,
   "nav_menu": {},
   "number_sections": true,
   "sideBar": true,
   "skip_h1_title": false,
   "title_cell": "Table of Contents",
   "title_sidebar": "Contents",
   "toc_cell": false,
   "toc_position": {},
   "toc_section_display": true,
   "toc_window_display": false
  },
  "varInspector": {
   "cols": {
    "lenName": 16,
    "lenType": 16,
    "lenVar": 40
   },
   "kernels_config": {
    "python": {
     "delete_cmd_postfix": "",
     "delete_cmd_prefix": "del ",
     "library": "var_list.py",
     "varRefreshCmd": "print(var_dic_list())"
    },
    "r": {
     "delete_cmd_postfix": ") ",
     "delete_cmd_prefix": "rm(",
     "library": "var_list.r",
     "varRefreshCmd": "cat(var_dic_list()) "
    }
   },
   "types_to_exclude": [
    "module",
    "function",
    "builtin_function_or_method",
    "instance",
    "_Feature"
   ],
   "window_display": false
  }
 },
 "nbformat": 4,
 "nbformat_minor": 4
}
