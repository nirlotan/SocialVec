{
 "cells": [
  {
   "cell_type": "markdown",
   "id": "b161c693",
   "metadata": {
    "pycharm": {
     "name": "#%% md\n"
    }
   },
   "source": [
    "# SocialVec Examples"
   ]
  },
  {
   "cell_type": "markdown",
   "id": "4714d970",
   "metadata": {
    "pycharm": {
     "name": "#%% md\n"
    }
   },
   "source": [
    "## Import and initializations"
   ]
  },
  {
   "cell_type": "markdown",
   "id": "7744751d",
   "metadata": {
    "pycharm": {
     "name": "#%% md\n"
    }
   },
   "source": [
    "The below cell is only needed to import a local version that was not install using pip"
   ]
  },
  {
   "cell_type": "code",
   "execution_count": 1,
   "id": "35626b88",
   "metadata": {
    "pycharm": {
     "name": "#%%\n"
    }
   },
   "outputs": [],
   "source": [
    "import os\n",
    "import sys\n",
    "from pathlib import Path\n",
    "package_dir = os.path.join(Path(os.getcwd()).parent.absolute(),'socialvec')\n",
    "sys.path.append(os.path.dirname(package_dir))"
   ]
  },
  {
   "cell_type": "markdown",
   "id": "dd7f3b2c",
   "metadata": {
    "pycharm": {
     "name": "#%% md\n"
    }
   },
   "source": [
    "if you install the package using pip you can simply import it as below"
   ]
  },
  {
   "cell_type": "code",
   "execution_count": null,
   "id": "ac691195",
   "metadata": {
    "pycharm": {
     "name": "#%%\n"
    }
   },
   "outputs": [],
   "source": [
    "from socialvec.socialvec import SocialVec\n",
    "from socialvec.socialvec import SocialVecClassifier"
   ]
  },
  {
   "cell_type": "code",
   "execution_count": 3,
   "id": "6dd895e6",
   "metadata": {
    "pycharm": {
     "name": "#%%\n"
    }
   },
   "outputs": [
    {
     "name": "stdout",
     "output_type": "stream",
     "text": [
      "✅  Initialize Model\n",
      "✅  Load Metadata\n"
     ]
    }
   ],
   "source": [
    "sv = SocialVec()"
   ]
  },
  {
   "cell_type": "markdown",
   "id": "1dab266e",
   "metadata": {
    "pycharm": {
     "name": "#%% md\n"
    }
   },
   "source": [
    "## Basic Usage Examples"
   ]
  },
  {
   "cell_type": "markdown",
   "id": "4ac11eb0",
   "metadata": {
    "pycharm": {
     "name": "#%% md\n"
    }
   },
   "source": [
    "### Get a vector of a user using twitterid (string or integer), or by username"
   ]
  },
  {
   "cell_type": "code",
   "execution_count": null,
   "id": "5818c6bd",
   "metadata": {
    "pycharm": {
     "name": "#%%\n"
    }
   },
   "outputs": [],
   "source": [
    "sv[12]"
   ]
  },
  {
   "cell_type": "code",
   "execution_count": null,
   "id": "d7a55b34",
   "metadata": {
    "pycharm": {
     "name": "#%%\n"
    }
   },
   "outputs": [],
   "source": [
    "sv[\"12\"]"
   ]
  },
  {
   "cell_type": "code",
   "execution_count": null,
   "id": "d229cb70",
   "metadata": {
    "pycharm": {
     "name": "#%%\n"
    }
   },
   "outputs": [],
   "source": [
    "sv[\"jack\"]"
   ]
  },
  {
   "cell_type": "markdown",
   "id": "52d97b6c",
   "metadata": {
    "pycharm": {
     "name": "#%% md\n"
    }
   },
   "source": [
    "### Get similar users"
   ]
  },
  {
   "cell_type": "code",
   "execution_count": null,
   "id": "a59a34c7",
   "metadata": {
    "pycharm": {
     "name": "#%%\n"
    }
   },
   "outputs": [],
   "source": [
    "sv.get_similar('jack')"
   ]
  },
  {
   "cell_type": "markdown",
   "id": "ce8bf044",
   "metadata": {
    "pycharm": {
     "name": "#%% md\n"
    }
   },
   "source": [
    "### Get the average embeddings of multiple users\n",
    "When we want to get the embeddings of a user that is not a popular entity, we collect the list of accounts that this user follows, and provide it to the get_average_embeddings function. This function will return the embedding vector for this user.\n",
    "\n",
    "** This function currently only supports getting a list of user IDs **"
   ]
  },
  {
   "cell_type": "code",
   "execution_count": null,
   "id": "3954f5dc",
   "metadata": {
    "pycharm": {
     "name": "#%%\n"
    }
   },
   "outputs": [],
   "source": [
    "v = sv.get_average_embeddings([1, sv.get_userid('jack')], 989)\n",
    "sv.get_similar(v[0])"
   ]
  },
  {
   "cell_type": "markdown",
   "id": "ffb309c8",
   "metadata": {
    "pycharm": {
     "name": "#%% md\n"
    }
   },
   "source": [
    "## Get similar to multiple users\n",
    "The function get similar can also get a list of twitter IDs, and will return the most similar list for the average of these users"
   ]
  },
  {
   "cell_type": "code",
   "execution_count": null,
   "id": "97cd5390",
   "metadata": {
    "pycharm": {
     "name": "#%%\n"
    }
   },
   "outputs": [],
   "source": [
    "edu = ['Harvard','MIT','UCLA']\n",
    "edu_ids = [ sv.get_userid(id) for id in edu]\n",
    "\n",
    "sports = ['FCBarcelona','ManUtd','realmadrid']\n",
    "sports_ids = [ sv.get_userid(id) for id in sports]"
   ]
  },
  {
   "cell_type": "code",
   "execution_count": null,
   "id": "558d5853",
   "metadata": {
    "pycharm": {
     "name": "#%%\n"
    }
   },
   "outputs": [],
   "source": [
    "sv.get_similar(edu_ids)"
   ]
  },
  {
   "cell_type": "code",
   "execution_count": null,
   "id": "d7310717",
   "metadata": {
    "pycharm": {
     "name": "#%%\n"
    }
   },
   "outputs": [],
   "source": [
    "sv.get_similar(sports_ids)"
   ]
  },
  {
   "cell_type": "code",
   "execution_count": null,
   "id": "59189479",
   "metadata": {
    "pycharm": {
     "name": "#%%\n"
    }
   },
   "outputs": [],
   "source": [
    "## Get similarity"
   ]
  },
  {
   "cell_type": "code",
   "execution_count": null,
   "id": "3991f40a",
   "metadata": {
    "pycharm": {
     "name": "#%%\n"
    }
   },
   "outputs": [],
   "source": [
    "sv.get_similarity('barackobama', 'realdonaldtrump')"
   ]
  },
  {
   "cell_type": "markdown",
   "id": "e1166f40",
   "metadata": {
    "pycharm": {
     "name": "#%% md\n"
    }
   },
   "source": [
    "### get similarity for a vector"
   ]
  },
  {
   "cell_type": "code",
   "execution_count": null,
   "id": "1b222bd1",
   "metadata": {
    "pycharm": {
     "name": "#%%\n"
    }
   },
   "outputs": [],
   "source": [
    "sv.get_similarity(sv[12], 'realdonaldtrump')"
   ]
  },
  {
   "cell_type": "markdown",
   "id": "754fbd87",
   "metadata": {
    "pycharm": {
     "name": "#%% md\n"
    }
   },
   "source": [
    "# Classification Examples"
   ]
  },
  {
   "cell_type": "code",
   "execution_count": null,
   "id": "4d9e2337",
   "metadata": {
    "pycharm": {
     "name": "#%%\n"
    }
   },
   "outputs": [],
   "source": [
    "import os\n",
    "import sys\n",
    "from pathlib import Path\n",
    "package_dir = os.path.join(Path(os.getcwd()).parent.absolute(),'socialvec')\n",
    "sys.path.append(os.path.dirname(package_dir))\n",
    "\n",
    "from socialvec.socialvec import SocialVec\n",
    "from socialvec.socialvec import SocialVecClassifier\n",
    "\n",
    "sv = SocialVec()\n",
    "svc = SocialVecClassifier()"
   ]
  },
  {
   "cell_type": "code",
   "execution_count": null,
   "id": "b23b8520",
   "metadata": {
    "pycharm": {
     "name": "#%%\n"
    }
   },
   "outputs": [],
   "source": [
    "svc.predict_political_proba(sv['barackobama'])"
   ]
  },
  {
   "cell_type": "code",
   "execution_count": null,
   "id": "9177907a",
   "metadata": {
    "pycharm": {
     "name": "#%%\n"
    }
   },
   "outputs": [],
   "source": [
    "svc.predict_political(sv['barackobama'])"
   ]
  },
  {
   "cell_type": "code",
   "execution_count": null,
   "id": "2d79ccf4",
   "metadata": {
    "pycharm": {
     "name": "#%%\n"
    }
   },
   "outputs": [],
   "source": [
    "svc.predict_political_proba(sv['tedcruz'])"
   ]
  },
  {
   "cell_type": "code",
   "execution_count": null,
   "id": "98618407",
   "metadata": {
    "pycharm": {
     "name": "#%%\n"
    }
   },
   "outputs": [],
   "source": [
    "sv.get_similar('realDonaldTrump')"
   ]
  },
  {
   "cell_type": "code",
   "execution_count": null,
   "id": "884f156b",
   "metadata": {
    "pycharm": {
     "name": "#%%\n"
    }
   },
   "outputs": [],
   "source": [
    "# Political Classification"
   ]
  },
  {
   "cell_type": "code",
   "execution_count": null,
   "id": "a8c8c032",
   "metadata": {
    "pycharm": {
     "name": "#%%\n"
    }
   },
   "outputs": [],
   "source": [
    "svc = SocialVecClassifier()"
   ]
  },
  {
   "cell_type": "code",
   "execution_count": null,
   "id": "770cceb8",
   "metadata": {
    "pycharm": {
     "name": "#%%\n"
    }
   },
   "outputs": [],
   "source": [
    "svc.predict_political(sv['ev'])"
   ]
  },
  {
   "cell_type": "code",
   "execution_count": null,
   "id": "4d2f2a87",
   "metadata": {},
   "outputs": [],
   "source": []
  }
 ],
 "metadata": {
  "kernelspec": {
   "display_name": "Python 3 (ipykernel)",
   "language": "python",
   "name": "python3"
  },
  "language_info": {
   "codemirror_mode": {
    "name": "ipython",
    "version": 3
   },
   "file_extension": ".py",
   "mimetype": "text/x-python",
   "name": "python",
   "nbconvert_exporter": "python",
   "pygments_lexer": "ipython3",
   "version": "3.9.6"
  }
 },
 "nbformat": 4,
 "nbformat_minor": 5
}
