{
 "cells": [
  {
   "cell_type": "markdown",
   "id": "b161c693",
   "metadata": {
    "pycharm": {
     "name": "#%% md\n"
    }
   },
   "source": [
    "# SocialVec Examples"
   ]
  },
  {
   "cell_type": "markdown",
   "id": "4714d970",
   "metadata": {
    "pycharm": {
     "name": "#%% md\n"
    }
   },
   "source": [
    "## Import and initializations"
   ]
  },
  {
   "cell_type": "markdown",
   "id": "7744751d",
   "metadata": {
    "pycharm": {
     "name": "#%% md\n"
    }
   },
   "source": [
    "The below cell is only needed to import a local version that was not install using pip"
   ]
  },
  {
   "cell_type": "code",
   "execution_count": 1,
   "id": "35626b88",
   "metadata": {
    "pycharm": {
     "name": "#%%\n"
    }
   },
   "outputs": [],
   "source": [
    "import os\n",
    "import sys\n",
    "from pathlib import Path\n",
    "package_dir = os.path.join(Path(os.getcwd()).parent.absolute(),'socialvec')\n",
    "sys.path.append(os.path.dirname(package_dir))"
   ]
  },
  {
   "cell_type": "markdown",
   "id": "dd7f3b2c",
   "metadata": {
    "pycharm": {
     "name": "#%% md\n"
    }
   },
   "source": [
    "if you install the package using pip you can simply import it as below"
   ]
  },
  {
   "cell_type": "code",
   "execution_count": 2,
   "id": "ac691195",
   "metadata": {
    "pycharm": {
     "name": "#%%\n"
    }
   },
   "outputs": [
    {
     "name": "stderr",
     "output_type": "stream",
     "text": [
      "2022-10-20 13:35:16.561164: I tensorflow/core/platform/cpu_feature_guard.cc:193] This TensorFlow binary is optimized with oneAPI Deep Neural Network Library (oneDNN) to use the following CPU instructions in performance-critical operations:  AVX2 FMA\n",
      "To enable them in other operations, rebuild TensorFlow with the appropriate compiler flags.\n"
     ]
    }
   ],
   "source": [
    "from socialvec.socialvec import SocialVec\n",
    "#from socialvec.socialvec import SocialVecClassifier"
   ]
  },
  {
   "cell_type": "code",
   "execution_count": 3,
   "id": "90713b8e",
   "metadata": {
    "pycharm": {
     "name": "#%%\n"
    }
   },
   "outputs": [
    {
     "name": "stdout",
     "output_type": "stream",
     "text": [
      "✅  Initialize Model\n",
      "✅  Load Metadata\n"
     ]
    }
   ],
   "source": [
    "sv = SocialVec(model_name=\"2020_2022\")"
   ]
  },
  {
   "cell_type": "markdown",
   "id": "4e824686",
   "metadata": {
    "pycharm": {
     "name": "#%% md\n"
    }
   },
   "source": [
    "## Basic Usage Examples"
   ]
  },
  {
   "cell_type": "markdown",
   "id": "fa80b7bf",
   "metadata": {
    "pycharm": {
     "name": "#%% md\n"
    }
   },
   "source": [
    "### Get a vector of a user using twitterid (string or integer), or by username"
   ]
  },
  {
   "cell_type": "code",
   "execution_count": null,
   "id": "e9a82ec0",
   "metadata": {
    "pycharm": {
     "name": "#%%\n"
    }
   },
   "outputs": [],
   "source": [
    "sv[12]"
   ]
  },
  {
   "cell_type": "code",
   "execution_count": null,
   "id": "1bc85c9e",
   "metadata": {
    "pycharm": {
     "name": "#%%\n"
    }
   },
   "outputs": [],
   "source": [
    "sv[\"12\"]"
   ]
  },
  {
   "cell_type": "code",
   "execution_count": null,
   "id": "479fc176",
   "metadata": {
    "pycharm": {
     "name": "#%%\n"
    }
   },
   "outputs": [],
   "source": [
    "sv[\"jack\"]"
   ]
  },
  {
   "cell_type": "markdown",
   "id": "b5c0ee0f",
   "metadata": {
    "pycharm": {
     "name": "#%% md\n"
    }
   },
   "source": [
    "### Get similar users"
   ]
  },
  {
   "cell_type": "code",
   "execution_count": null,
   "id": "32aeb49e",
   "metadata": {
    "pycharm": {
     "name": "#%%\n"
    }
   },
   "outputs": [],
   "source": [
    "sv.get_similar('jack')"
   ]
  },
  {
   "cell_type": "markdown",
   "id": "873e89fc",
   "metadata": {
    "pycharm": {
     "name": "#%% md\n"
    }
   },
   "source": [
    "### Get the average embeddings of multiple users\n",
    "When we want to get the embeddings of a user that is not a popular entity, we collect the list of accounts that this user follows, and provide it to the get_average_embeddings function. This function will return the embedding vector for this user.\n",
    "\n",
    "** This function currently only supports getting a list of user IDs **"
   ]
  },
  {
   "cell_type": "code",
   "execution_count": 35,
   "id": "eacce462",
   "metadata": {},
   "outputs": [
    {
     "data": {
      "text/plain": [
       "'512700138'"
      ]
     },
     "execution_count": 35,
     "metadata": {},
     "output_type": "execute_result"
    }
   ],
   "source": [
    "sv.get_userid('madonna')"
   ]
  },
  {
   "cell_type": "code",
   "execution_count": 39,
   "id": "37f0fad0",
   "metadata": {
    "pycharm": {
     "name": "#%%\n"
    }
   },
   "outputs": [
    {
     "data": {
      "text/html": [
       "<div>\n",
       "<style scoped>\n",
       "    .dataframe tbody tr th:only-of-type {\n",
       "        vertical-align: middle;\n",
       "    }\n",
       "\n",
       "    .dataframe tbody tr th {\n",
       "        vertical-align: top;\n",
       "    }\n",
       "\n",
       "    .dataframe thead th {\n",
       "        text-align: right;\n",
       "    }\n",
       "</style>\n",
       "<table border=\"1\" class=\"dataframe\">\n",
       "  <thead>\n",
       "    <tr style=\"text-align: right;\">\n",
       "      <th></th>\n",
       "      <th>twitter_id</th>\n",
       "      <th>similarity</th>\n",
       "      <th>screen_name</th>\n",
       "      <th>name</th>\n",
       "      <th>description</th>\n",
       "    </tr>\n",
       "  </thead>\n",
       "  <tbody>\n",
       "    <tr>\n",
       "      <th>0</th>\n",
       "      <td>79293791</td>\n",
       "      <td>0.903579</td>\n",
       "      <td>rihanna</td>\n",
       "      <td>Rihanna</td>\n",
       "      <td>nan</td>\n",
       "    </tr>\n",
       "    <tr>\n",
       "      <th>1</th>\n",
       "      <td>153694176</td>\n",
       "      <td>0.879907</td>\n",
       "      <td>IGGYAZALEA</td>\n",
       "      <td>IGGY AZALEA</td>\n",
       "      <td>None of your business</td>\n",
       "    </tr>\n",
       "    <tr>\n",
       "      <th>2</th>\n",
       "      <td>34507480</td>\n",
       "      <td>0.877103</td>\n",
       "      <td>ArianaGrande</td>\n",
       "      <td>Ariana Grande</td>\n",
       "      <td>None</td>\n",
       "    </tr>\n",
       "    <tr>\n",
       "      <th>3</th>\n",
       "      <td>184910040</td>\n",
       "      <td>0.871745</td>\n",
       "      <td>Adele</td>\n",
       "      <td>Adele</td>\n",
       "      <td>https://t.co/31T2EYGNLy</td>\n",
       "    </tr>\n",
       "    <tr>\n",
       "      <th>4</th>\n",
       "      <td>512700138</td>\n",
       "      <td>0.863626</td>\n",
       "      <td>Madonna</td>\n",
       "      <td>Madonna</td>\n",
       "      <td>https://t.co/WwM6FVkZFU</td>\n",
       "    </tr>\n",
       "    <tr>\n",
       "      <th>5</th>\n",
       "      <td>268414482</td>\n",
       "      <td>0.858954</td>\n",
       "      <td>MileyCyrus</td>\n",
       "      <td>Miley Cyrus</td>\n",
       "      <td>M-CEO of Twitter 💙🕊</td>\n",
       "    </tr>\n",
       "    <tr>\n",
       "      <th>6</th>\n",
       "      <td>100220864</td>\n",
       "      <td>0.858912</td>\n",
       "      <td>BrunoMars</td>\n",
       "      <td>Bruno Mars</td>\n",
       "      <td>Silk Sonic album is available everywhere!</td>\n",
       "    </tr>\n",
       "    <tr>\n",
       "      <th>7</th>\n",
       "      <td>274119641</td>\n",
       "      <td>0.857929</td>\n",
       "      <td>VanessaHudgens</td>\n",
       "      <td>Vanessa Hudgens</td>\n",
       "      <td>🔮</td>\n",
       "    </tr>\n",
       "    <tr>\n",
       "      <th>8</th>\n",
       "      <td>268439864</td>\n",
       "      <td>0.854520</td>\n",
       "      <td>xtina</td>\n",
       "      <td>Christina Aguilera</td>\n",
       "      <td>🖤🤍 #Suéltame #LaTormenta</td>\n",
       "    </tr>\n",
       "    <tr>\n",
       "      <th>9</th>\n",
       "      <td>157140968</td>\n",
       "      <td>0.849562</td>\n",
       "      <td>KendallJenner</td>\n",
       "      <td>Kendall</td>\n",
       "      <td>@drink818 on Instagram and Twitter</td>\n",
       "    </tr>\n",
       "  </tbody>\n",
       "</table>\n",
       "</div>"
      ],
      "text/plain": [
       "  twitter_id  similarity     screen_name                name  \\\n",
       "0   79293791    0.903579         rihanna             Rihanna   \n",
       "1  153694176    0.879907      IGGYAZALEA         IGGY AZALEA   \n",
       "2   34507480    0.877103    ArianaGrande       Ariana Grande   \n",
       "3  184910040    0.871745           Adele               Adele   \n",
       "4  512700138    0.863626         Madonna             Madonna   \n",
       "5  268414482    0.858954      MileyCyrus         Miley Cyrus   \n",
       "6  100220864    0.858912       BrunoMars          Bruno Mars   \n",
       "7  274119641    0.857929  VanessaHudgens     Vanessa Hudgens   \n",
       "8  268439864    0.854520           xtina  Christina Aguilera   \n",
       "9  157140968    0.849562   KendallJenner             Kendall   \n",
       "\n",
       "                                 description  \n",
       "0                                        nan  \n",
       "1                      None of your business  \n",
       "2                                       None  \n",
       "3                    https://t.co/31T2EYGNLy  \n",
       "4                    https://t.co/WwM6FVkZFU  \n",
       "5                        M-CEO of Twitter 💙🕊  \n",
       "6  Silk Sonic album is available everywhere!  \n",
       "7                                          🔮  \n",
       "8                   🖤🤍 #Suéltame #LaTormenta  \n",
       "9         @drink818 on Instagram and Twitter  "
      ]
     },
     "execution_count": 39,
     "metadata": {},
     "output_type": "execute_result"
    }
   ],
   "source": [
    "v = sv.get_average_embeddings([sv.get_userid('rihanna'),\n",
    "                               sv.get_userid('arianagrande'),\n",
    "                               sv.get_userid('madonna')])\n",
    "\n",
    "\n",
    "sv.get_similar(v[0])"
   ]
  },
  {
   "cell_type": "markdown",
   "id": "08060504",
   "metadata": {
    "pycharm": {
     "name": "#%% md\n"
    }
   },
   "source": [
    "## Get similar to multiple users\n",
    "The function get similar can also get a list of twitter IDs, and will return the most similar list for the average of these users"
   ]
  },
  {
   "cell_type": "code",
   "execution_count": 22,
   "id": "3a70a71d",
   "metadata": {
    "pycharm": {
     "name": "#%%\n"
    }
   },
   "outputs": [],
   "source": [
    "edu = ['Harvard','MIT','UCLA']\n",
    "edu_ids = [ sv.get_userid(id) for id in edu]\n",
    "\n",
    "sports = ['FCBarcelona','ManUtd','realmadrid']\n",
    "sports_ids = [ sv.get_userid(id) for id in sports]"
   ]
  },
  {
   "cell_type": "code",
   "execution_count": 23,
   "id": "d3e5b301",
   "metadata": {
    "pycharm": {
     "name": "#%%\n"
    }
   },
   "outputs": [
    {
     "data": {
      "text/html": [
       "<div>\n",
       "<style scoped>\n",
       "    .dataframe tbody tr th:only-of-type {\n",
       "        vertical-align: middle;\n",
       "    }\n",
       "\n",
       "    .dataframe tbody tr th {\n",
       "        vertical-align: top;\n",
       "    }\n",
       "\n",
       "    .dataframe thead th {\n",
       "        text-align: right;\n",
       "    }\n",
       "</style>\n",
       "<table border=\"1\" class=\"dataframe\">\n",
       "  <thead>\n",
       "    <tr style=\"text-align: right;\">\n",
       "      <th></th>\n",
       "      <th>twitter_id</th>\n",
       "      <th>similarity</th>\n",
       "      <th>screen_name</th>\n",
       "      <th>name</th>\n",
       "      <th>description</th>\n",
       "    </tr>\n",
       "  </thead>\n",
       "  <tbody>\n",
       "    <tr>\n",
       "      <th>0</th>\n",
       "      <td>18036441</td>\n",
       "      <td>0.877006</td>\n",
       "      <td>Stanford</td>\n",
       "      <td>Stanford University</td>\n",
       "      <td>Stanford is one of the world's leading researc...</td>\n",
       "    </tr>\n",
       "    <tr>\n",
       "      <th>1</th>\n",
       "      <td>5694822</td>\n",
       "      <td>0.830344</td>\n",
       "      <td>Princeton</td>\n",
       "      <td>Princeton University</td>\n",
       "      <td>The official Twitter account of Princeton Univ...</td>\n",
       "    </tr>\n",
       "    <tr>\n",
       "      <th>2</th>\n",
       "      <td>14884486</td>\n",
       "      <td>0.829955</td>\n",
       "      <td>BrownUniversity</td>\n",
       "      <td>Brown University</td>\n",
       "      <td>Official Twitter feed for Brown University. 🐻</td>\n",
       "    </tr>\n",
       "  </tbody>\n",
       "</table>\n",
       "</div>"
      ],
      "text/plain": [
       "  twitter_id  similarity      screen_name                  name  \\\n",
       "0   18036441    0.877006         Stanford   Stanford University   \n",
       "1    5694822    0.830344        Princeton  Princeton University   \n",
       "2   14884486    0.829955  BrownUniversity      Brown University   \n",
       "\n",
       "                                         description  \n",
       "0  Stanford is one of the world's leading researc...  \n",
       "1  The official Twitter account of Princeton Univ...  \n",
       "2      Official Twitter feed for Brown University. 🐻  "
      ]
     },
     "execution_count": 23,
     "metadata": {},
     "output_type": "execute_result"
    }
   ],
   "source": [
    "sv.get_similar(edu_ids).head(3)"
   ]
  },
  {
   "cell_type": "code",
   "execution_count": 24,
   "id": "e74242d3",
   "metadata": {
    "pycharm": {
     "name": "#%%\n"
    }
   },
   "outputs": [
    {
     "data": {
      "text/html": [
       "<div>\n",
       "<style scoped>\n",
       "    .dataframe tbody tr th:only-of-type {\n",
       "        vertical-align: middle;\n",
       "    }\n",
       "\n",
       "    .dataframe tbody tr th {\n",
       "        vertical-align: top;\n",
       "    }\n",
       "\n",
       "    .dataframe thead th {\n",
       "        text-align: right;\n",
       "    }\n",
       "</style>\n",
       "<table border=\"1\" class=\"dataframe\">\n",
       "  <thead>\n",
       "    <tr style=\"text-align: right;\">\n",
       "      <th></th>\n",
       "      <th>twitter_id</th>\n",
       "      <th>similarity</th>\n",
       "      <th>screen_name</th>\n",
       "      <th>name</th>\n",
       "      <th>description</th>\n",
       "    </tr>\n",
       "  </thead>\n",
       "  <tbody>\n",
       "    <tr>\n",
       "      <th>0</th>\n",
       "      <td>90836187</td>\n",
       "      <td>0.938566</td>\n",
       "      <td>andresiniesta8</td>\n",
       "      <td>Andrés Iniesta</td>\n",
       "      <td>⚽️ @visselkobe player | Kobe-BCN-Fuentealbilla...</td>\n",
       "    </tr>\n",
       "    <tr>\n",
       "      <th>1</th>\n",
       "      <td>213745334</td>\n",
       "      <td>0.937419</td>\n",
       "      <td>LuisSuarez9</td>\n",
       "      <td>Luis Suárez</td>\n",
       "      <td>Club Nacional de Football player. Born in Salt...</td>\n",
       "    </tr>\n",
       "    <tr>\n",
       "      <th>2</th>\n",
       "      <td>140750163</td>\n",
       "      <td>0.920962</td>\n",
       "      <td>juanmata8</td>\n",
       "      <td>Juan Mata García</td>\n",
       "      <td>Professional football player. Member of @Commo...</td>\n",
       "    </tr>\n",
       "  </tbody>\n",
       "</table>\n",
       "</div>"
      ],
      "text/plain": [
       "  twitter_id  similarity     screen_name              name  \\\n",
       "0   90836187    0.938566  andresiniesta8    Andrés Iniesta   \n",
       "1  213745334    0.937419     LuisSuarez9       Luis Suárez   \n",
       "2  140750163    0.920962       juanmata8  Juan Mata García   \n",
       "\n",
       "                                         description  \n",
       "0  ⚽️ @visselkobe player | Kobe-BCN-Fuentealbilla...  \n",
       "1  Club Nacional de Football player. Born in Salt...  \n",
       "2  Professional football player. Member of @Commo...  "
      ]
     },
     "execution_count": 24,
     "metadata": {},
     "output_type": "execute_result"
    }
   ],
   "source": [
    "sv.get_similar(sports_ids).head(3)"
   ]
  },
  {
   "cell_type": "markdown",
   "id": "93a35bc4",
   "metadata": {
    "pycharm": {
     "name": "#%%\n"
    }
   },
   "source": [
    "## Get similarity"
   ]
  },
  {
   "cell_type": "code",
   "execution_count": 40,
   "id": "92f709df",
   "metadata": {
    "pycharm": {
     "name": "#%%\n"
    }
   },
   "outputs": [
    {
     "data": {
      "text/plain": [
       "0.4535221"
      ]
     },
     "execution_count": 40,
     "metadata": {},
     "output_type": "execute_result"
    }
   ],
   "source": [
    "sv.get_similarity('barackobama', 'realdonaldtrump')"
   ]
  },
  {
   "cell_type": "markdown",
   "id": "c143718e",
   "metadata": {
    "pycharm": {
     "name": "#%% md\n"
    }
   },
   "source": [
    "### get similarity for a vector"
   ]
  },
  {
   "cell_type": "code",
   "execution_count": 41,
   "id": "2ea71726",
   "metadata": {
    "pycharm": {
     "name": "#%%\n"
    }
   },
   "outputs": [
    {
     "data": {
      "text/plain": [
       "0.46564198"
      ]
     },
     "execution_count": 41,
     "metadata": {},
     "output_type": "execute_result"
    }
   ],
   "source": [
    "sv.get_similarity(sv[12], 'realdonaldtrump')"
   ]
  },
  {
   "cell_type": "markdown",
   "id": "dbc0d4b1",
   "metadata": {},
   "source": [
    "## Arithmetics fun"
   ]
  },
  {
   "cell_type": "code",
   "execution_count": null,
   "id": "6325f2cb",
   "metadata": {},
   "outputs": [],
   "source": [
    "positive=['woman', 'king'], negative=['man']"
   ]
  },
  {
   "cell_type": "code",
   "execution_count": 73,
   "id": "e4d0c712",
   "metadata": {},
   "outputs": [],
   "source": [
    "ida = sv.get_userid('BarackObama')\n",
    "idb = sv.get_userid('BillClinton')\n",
    "idc = sv.get_userid('hillaryclinton')"
   ]
  },
  {
   "cell_type": "code",
   "execution_count": 87,
   "id": "5afa8a55",
   "metadata": {},
   "outputs": [
    {
     "data": {
      "text/plain": [
       "'ReginaKing'"
      ]
     },
     "execution_count": 87,
     "metadata": {},
     "output_type": "execute_result"
    }
   ],
   "source": [
    "sv.get_screen_name(sv.sv.wv.most_similar(positive=[sv.get_userid('BarackObama'), sv.get_userid('michelleobama')],\n",
    "                                         negative=[sv.get_userid('JoeBiden')],\n",
    "                                         topn=1)[0][0])"
   ]
  },
  {
   "cell_type": "code",
   "execution_count": 79,
   "id": "1e562b10",
   "metadata": {},
   "outputs": [
    {
     "data": {
      "text/html": [
       "<div>\n",
       "<style scoped>\n",
       "    .dataframe tbody tr th:only-of-type {\n",
       "        vertical-align: middle;\n",
       "    }\n",
       "\n",
       "    .dataframe tbody tr th {\n",
       "        vertical-align: top;\n",
       "    }\n",
       "\n",
       "    .dataframe thead th {\n",
       "        text-align: right;\n",
       "    }\n",
       "</style>\n",
       "<table border=\"1\" class=\"dataframe\">\n",
       "  <thead>\n",
       "    <tr style=\"text-align: right;\">\n",
       "      <th></th>\n",
       "      <th>twitter_id</th>\n",
       "      <th>similarity</th>\n",
       "      <th>screen_name</th>\n",
       "      <th>name</th>\n",
       "      <th>description</th>\n",
       "    </tr>\n",
       "  </thead>\n",
       "  <tbody>\n",
       "    <tr>\n",
       "      <th>0</th>\n",
       "      <td>409486555</td>\n",
       "      <td>0.852655</td>\n",
       "      <td>MichelleObama</td>\n",
       "      <td>Michelle Obama</td>\n",
       "      <td>Girl from the South Side and former First Lady...</td>\n",
       "    </tr>\n",
       "    <tr>\n",
       "      <th>1</th>\n",
       "      <td>1339835893</td>\n",
       "      <td>0.844063</td>\n",
       "      <td>HillaryClinton</td>\n",
       "      <td>Hillary Clinton</td>\n",
       "      <td>2016 Democratic Nominee, SecState, Senator, ha...</td>\n",
       "    </tr>\n",
       "    <tr>\n",
       "      <th>2</th>\n",
       "      <td>1093090866</td>\n",
       "      <td>0.768605</td>\n",
       "      <td>FLOTUS44</td>\n",
       "      <td>First Lady- Archived</td>\n",
       "      <td>Office of First Lady Michelle Obama. This is a...</td>\n",
       "    </tr>\n",
       "    <tr>\n",
       "      <th>3</th>\n",
       "      <td>402957663</td>\n",
       "      <td>0.766591</td>\n",
       "      <td>PPFA</td>\n",
       "      <td>Planned Parenthood</td>\n",
       "      <td>Hi! We’re America’s most trusted provider of s...</td>\n",
       "    </tr>\n",
       "    <tr>\n",
       "      <th>4</th>\n",
       "      <td>2717254872</td>\n",
       "      <td>0.762603</td>\n",
       "      <td>violadavis</td>\n",
       "      <td>Viola Davis</td>\n",
       "      <td>Academy-Award winning actress, philanthropist,...</td>\n",
       "    </tr>\n",
       "    <tr>\n",
       "      <th>5</th>\n",
       "      <td>325830217</td>\n",
       "      <td>0.758946</td>\n",
       "      <td>VP44</td>\n",
       "      <td>VP Biden (Archived)</td>\n",
       "      <td>This is an archive of an Obama Administration ...</td>\n",
       "    </tr>\n",
       "    <tr>\n",
       "      <th>6</th>\n",
       "      <td>970207298</td>\n",
       "      <td>0.756475</td>\n",
       "      <td>SenWarren</td>\n",
       "      <td>Elizabeth Warren</td>\n",
       "      <td>U.S. Senator, Massachusetts. She/her/hers. Off...</td>\n",
       "    </tr>\n",
       "    <tr>\n",
       "      <th>7</th>\n",
       "      <td>937499232</td>\n",
       "      <td>0.754582</td>\n",
       "      <td>Malala</td>\n",
       "      <td>Malala</td>\n",
       "      <td>Advocate for girls’ education &amp; women's equali...</td>\n",
       "    </tr>\n",
       "    <tr>\n",
       "      <th>8</th>\n",
       "      <td>964032914626359296</td>\n",
       "      <td>0.752082</td>\n",
       "      <td>cameron_kasky</td>\n",
       "      <td>Cam Kasky</td>\n",
       "      <td>Chief Executive Officer of Lockheed Martin</td>\n",
       "    </tr>\n",
       "    <tr>\n",
       "      <th>9</th>\n",
       "      <td>757303975</td>\n",
       "      <td>0.746976</td>\n",
       "      <td>ChelseaClinton</td>\n",
       "      <td>Chelsea Clinton</td>\n",
       "      <td>Mom of Charlotte, Aidan &amp; Jasper, Married to M...</td>\n",
       "    </tr>\n",
       "  </tbody>\n",
       "</table>\n",
       "</div>"
      ],
      "text/plain": [
       "           twitter_id  similarity     screen_name                  name  \\\n",
       "0           409486555    0.852655   MichelleObama        Michelle Obama   \n",
       "1          1339835893    0.844063  HillaryClinton       Hillary Clinton   \n",
       "2          1093090866    0.768605        FLOTUS44  First Lady- Archived   \n",
       "3           402957663    0.766591            PPFA    Planned Parenthood   \n",
       "4          2717254872    0.762603      violadavis           Viola Davis   \n",
       "5           325830217    0.758946            VP44   VP Biden (Archived)   \n",
       "6           970207298    0.756475       SenWarren      Elizabeth Warren   \n",
       "7           937499232    0.754582          Malala                Malala   \n",
       "8  964032914626359296    0.752082   cameron_kasky             Cam Kasky   \n",
       "9           757303975    0.746976  ChelseaClinton       Chelsea Clinton   \n",
       "\n",
       "                                         description  \n",
       "0  Girl from the South Side and former First Lady...  \n",
       "1  2016 Democratic Nominee, SecState, Senator, ha...  \n",
       "2  Office of First Lady Michelle Obama. This is a...  \n",
       "3  Hi! We’re America’s most trusted provider of s...  \n",
       "4  Academy-Award winning actress, philanthropist,...  \n",
       "5  This is an archive of an Obama Administration ...  \n",
       "6  U.S. Senator, Massachusetts. She/her/hers. Off...  \n",
       "7  Advocate for girls’ education & women's equali...  \n",
       "8         Chief Executive Officer of Lockheed Martin  \n",
       "9  Mom of Charlotte, Aidan & Jasper, Married to M...  "
      ]
     },
     "execution_count": 79,
     "metadata": {},
     "output_type": "execute_result"
    }
   ],
   "source": [
    "sv.get_similar(sv['michelleobama'] - sv['POTUS44'] + sv['HillaryClinton'])"
   ]
  },
  {
   "cell_type": "markdown",
   "id": "57f85969",
   "metadata": {
    "pycharm": {
     "name": "#%% md\n"
    }
   },
   "source": [
    "# Classification Examples"
   ]
  },
  {
   "cell_type": "code",
   "execution_count": 4,
   "id": "52a3aa63",
   "metadata": {},
   "outputs": [
    {
     "name": "stderr",
     "output_type": "stream",
     "text": [
      "2022-10-18 15:19:36.224446: I tensorflow/core/platform/cpu_feature_guard.cc:193] This TensorFlow binary is optimized with oneAPI Deep Neural Network Library (oneDNN) to use the following CPU instructions in performance-critical operations:  AVX2 FMA\n",
      "To enable them in other operations, rebuild TensorFlow with the appropriate compiler flags.\n"
     ]
    }
   ],
   "source": [
    "sv.init_classifier()"
   ]
  },
  {
   "cell_type": "code",
   "execution_count": 16,
   "id": "8182287d",
   "metadata": {},
   "outputs": [
    {
     "data": {
      "text/plain": [
       "('Democrat', 0.9997575581364799)"
      ]
     },
     "execution_count": 16,
     "metadata": {},
     "output_type": "execute_result"
    }
   ],
   "source": [
    "sv.classifier.predict_political(sv['BarackObama'])"
   ]
  },
  {
   "cell_type": "code",
   "execution_count": 17,
   "id": "b2ce0b7c",
   "metadata": {},
   "outputs": [
    {
     "data": {
      "text/plain": [
       "('Republican', 0.9569854736328125)"
      ]
     },
     "execution_count": 17,
     "metadata": {},
     "output_type": "execute_result"
    }
   ],
   "source": [
    "sv.classifier.predict_political(sv['realdonaldtrump'])"
   ]
  },
  {
   "cell_type": "markdown",
   "id": "6c111f3f",
   "metadata": {},
   "source": [
    "# Get the embeddings of any user which is not popular"
   ]
  },
  {
   "cell_type": "code",
   "execution_count": 5,
   "id": "2aaf3944",
   "metadata": {},
   "outputs": [],
   "source": [
    "import toml\n",
    "import tweepy"
   ]
  },
  {
   "cell_type": "code",
   "execution_count": 6,
   "id": "dd100cb8",
   "metadata": {},
   "outputs": [],
   "source": [
    "tweepy_config = toml.load(\"tweepy.toml\")\n",
    "tweepy_credentials = tweepy_config['credentials']"
   ]
  },
  {
   "cell_type": "code",
   "execution_count": 7,
   "id": "770f22f6",
   "metadata": {},
   "outputs": [],
   "source": [
    "auth = tweepy.OAuthHandler(tweepy_credentials['consumer_key'], tweepy_credentials['consumer_secret'])\n",
    "auth.set_access_token(tweepy_credentials['access_token'], tweepy_credentials['access_token_secret'])\n",
    "api = tweepy.API(auth, proxy=\"http://proxy-chain.intel.com:911\") # optionally add proxy, e.g.: proxy=\"http://proxy-chain.intel.com:911\""
   ]
  },
  {
   "cell_type": "code",
   "execution_count": 9,
   "id": "b46423c0",
   "metadata": {},
   "outputs": [],
   "source": [
    "friends = api.get_friend_ids(screen_name=\"alonzoizner\")"
   ]
  },
  {
   "cell_type": "code",
   "execution_count": 10,
   "id": "9427abe0",
   "metadata": {},
   "outputs": [],
   "source": [
    "nirlotan_embeddings = sv.get_average_embeddings(friends)[0]"
   ]
  },
  {
   "cell_type": "code",
   "execution_count": 117,
   "id": "4c67b308",
   "metadata": {},
   "outputs": [
    {
     "data": {
      "text/html": [
       "<div>\n",
       "<style scoped>\n",
       "    .dataframe tbody tr th:only-of-type {\n",
       "        vertical-align: middle;\n",
       "    }\n",
       "\n",
       "    .dataframe tbody tr th {\n",
       "        vertical-align: top;\n",
       "    }\n",
       "\n",
       "    .dataframe thead th {\n",
       "        text-align: right;\n",
       "    }\n",
       "</style>\n",
       "<table border=\"1\" class=\"dataframe\">\n",
       "  <thead>\n",
       "    <tr style=\"text-align: right;\">\n",
       "      <th></th>\n",
       "      <th>twitter_id</th>\n",
       "      <th>similarity</th>\n",
       "      <th>screen_name</th>\n",
       "      <th>name</th>\n",
       "      <th>description</th>\n",
       "    </tr>\n",
       "  </thead>\n",
       "  <tbody>\n",
       "    <tr>\n",
       "      <th>0</th>\n",
       "      <td>27530178</td>\n",
       "      <td>0.807304</td>\n",
       "      <td>Pocket</td>\n",
       "      <td>Pocket</td>\n",
       "      <td>Capture content that fascinates you from acros...</td>\n",
       "    </tr>\n",
       "    <tr>\n",
       "      <th>1</th>\n",
       "      <td>740983</td>\n",
       "      <td>0.797080</td>\n",
       "      <td>loic</td>\n",
       "      <td>Loic Le Meur</td>\n",
       "      <td>I write and meditate every day as if my life d...</td>\n",
       "    </tr>\n",
       "    <tr>\n",
       "      <th>2</th>\n",
       "      <td>10955762</td>\n",
       "      <td>0.796126</td>\n",
       "      <td>petecashmore</td>\n",
       "      <td>Pete Cashmore</td>\n",
       "      <td>👋 Founder @mashable. TIME 100. Inc 30under30. ...</td>\n",
       "    </tr>\n",
       "    <tr>\n",
       "      <th>3</th>\n",
       "      <td>28172926</td>\n",
       "      <td>0.795466</td>\n",
       "      <td>WSJTech</td>\n",
       "      <td>WSJ Tech</td>\n",
       "      <td>The Wall Street Journal's (@WSJ) home for glob...</td>\n",
       "    </tr>\n",
       "    <tr>\n",
       "      <th>4</th>\n",
       "      <td>15813140</td>\n",
       "      <td>0.794063</td>\n",
       "      <td>GoogleCloudTech</td>\n",
       "      <td>Google Cloud Tech</td>\n",
       "      <td>Follow along for how-tos, demos, product news,...</td>\n",
       "    </tr>\n",
       "    <tr>\n",
       "      <th>5</th>\n",
       "      <td>20733756</td>\n",
       "      <td>0.793495</td>\n",
       "      <td>MegWhitman</td>\n",
       "      <td>Meg Whitman</td>\n",
       "      <td>None</td>\n",
       "    </tr>\n",
       "    <tr>\n",
       "      <th>6</th>\n",
       "      <td>42703075</td>\n",
       "      <td>0.792616</td>\n",
       "      <td>cnntech</td>\n",
       "      <td>CNN Tech</td>\n",
       "      <td>All the ways tech impacts your life.</td>\n",
       "    </tr>\n",
       "    <tr>\n",
       "      <th>7</th>\n",
       "      <td>14118534</td>\n",
       "      <td>0.792137</td>\n",
       "      <td>sourceforge</td>\n",
       "      <td>SourceForge</td>\n",
       "      <td>Your Trusted Source for Software. @sfnet_ops f...</td>\n",
       "    </tr>\n",
       "    <tr>\n",
       "      <th>8</th>\n",
       "      <td>286802800</td>\n",
       "      <td>0.791911</td>\n",
       "      <td>gklst</td>\n",
       "      <td>Geeklist</td>\n",
       "      <td>Claim your username! The 1st Achievement-Based...</td>\n",
       "    </tr>\n",
       "    <tr>\n",
       "      <th>9</th>\n",
       "      <td>18164662</td>\n",
       "      <td>0.791208</td>\n",
       "      <td>usatodaytech</td>\n",
       "      <td>USA TODAY Tech</td>\n",
       "      <td>Breaking tech news, product reviews and more f...</td>\n",
       "    </tr>\n",
       "  </tbody>\n",
       "</table>\n",
       "</div>"
      ],
      "text/plain": [
       "  twitter_id  similarity      screen_name               name  \\\n",
       "0   27530178    0.807304           Pocket             Pocket   \n",
       "1     740983    0.797080             loic       Loic Le Meur   \n",
       "2   10955762    0.796126     petecashmore      Pete Cashmore   \n",
       "3   28172926    0.795466          WSJTech           WSJ Tech   \n",
       "4   15813140    0.794063  GoogleCloudTech  Google Cloud Tech   \n",
       "5   20733756    0.793495       MegWhitman        Meg Whitman   \n",
       "6   42703075    0.792616          cnntech           CNN Tech   \n",
       "7   14118534    0.792137      sourceforge        SourceForge   \n",
       "8  286802800    0.791911            gklst           Geeklist   \n",
       "9   18164662    0.791208     usatodaytech     USA TODAY Tech   \n",
       "\n",
       "                                         description  \n",
       "0  Capture content that fascinates you from acros...  \n",
       "1  I write and meditate every day as if my life d...  \n",
       "2  👋 Founder @mashable. TIME 100. Inc 30under30. ...  \n",
       "3  The Wall Street Journal's (@WSJ) home for glob...  \n",
       "4  Follow along for how-tos, demos, product news,...  \n",
       "5                                               None  \n",
       "6               All the ways tech impacts your life.  \n",
       "7  Your Trusted Source for Software. @sfnet_ops f...  \n",
       "8  Claim your username! The 1st Achievement-Based...  \n",
       "9  Breaking tech news, product reviews and more f...  "
      ]
     },
     "execution_count": 117,
     "metadata": {},
     "output_type": "execute_result"
    }
   ],
   "source": [
    "sv.get_similar(nirlotan_embeddings)"
   ]
  },
  {
   "cell_type": "code",
   "execution_count": 4,
   "id": "0d7c569e",
   "metadata": {},
   "outputs": [
    {
     "name": "stderr",
     "output_type": "stream",
     "text": [
      "2022-10-20 13:35:36.690538: I tensorflow/core/platform/cpu_feature_guard.cc:193] This TensorFlow binary is optimized with oneAPI Deep Neural Network Library (oneDNN) to use the following CPU instructions in performance-critical operations:  AVX2 FMA\n",
      "To enable them in other operations, rebuild TensorFlow with the appropriate compiler flags.\n"
     ]
    }
   ],
   "source": [
    "sv.init_classifier()"
   ]
  },
  {
   "cell_type": "code",
   "execution_count": 11,
   "id": "5df79aec",
   "metadata": {},
   "outputs": [
    {
     "data": {
      "text/plain": [
       "('Democrat', 0.2910704016685486)"
      ]
     },
     "execution_count": 11,
     "metadata": {},
     "output_type": "execute_result"
    }
   ],
   "source": [
    "sv.classifier.predict_political(nirlotan_embeddings)"
   ]
  },
  {
   "cell_type": "code",
   "execution_count": 27,
   "id": "ceb4430c",
   "metadata": {},
   "outputs": [
    {
     "data": {
      "text/plain": [
       "<gensim.models.keyedvectors.KeyedVectors at 0x104eb9f40>"
      ]
     },
     "execution_count": 27,
     "metadata": {},
     "output_type": "execute_result"
    }
   ],
   "source": [
    "sv.sv.wv['']"
   ]
  },
  {
   "cell_type": "code",
   "execution_count": 29,
   "id": "176ac94b",
   "metadata": {},
   "outputs": [
    {
     "data": {
      "text/plain": [
       "('Democrat', 0.4005640745162964)"
      ]
     },
     "execution_count": 29,
     "metadata": {},
     "output_type": "execute_result"
    }
   ],
   "source": [
    "sv.classifier.predict_political(sv['dianabuttu'])"
   ]
  },
  {
   "cell_type": "code",
   "execution_count": 13,
   "id": "078ee9fc",
   "metadata": {},
   "outputs": [
    {
     "data": {
      "text/plain": [
       "0.648697"
      ]
     },
     "execution_count": 13,
     "metadata": {},
     "output_type": "execute_result"
    }
   ],
   "source": [
    "sv.get_similarity(nirlotan_embeddings, sv['NARAL'])"
   ]
  },
  {
   "cell_type": "code",
   "execution_count": 15,
   "id": "62a12465",
   "metadata": {},
   "outputs": [
    {
     "data": {
      "text/plain": [
       "0.48921016"
      ]
     },
     "execution_count": 15,
     "metadata": {},
     "output_type": "execute_result"
    }
   ],
   "source": [
    "sv.get_similarity(nirlotan_embeddings, sv['nrlc'])"
   ]
  },
  {
   "cell_type": "code",
   "execution_count": 17,
   "id": "c6e2f7f4",
   "metadata": {},
   "outputs": [
    {
     "data": {
      "text/plain": [
       "0.59673774"
      ]
     },
     "execution_count": 17,
     "metadata": {},
     "output_type": "execute_result"
    }
   ],
   "source": [
    "sv.get_similarity(nirlotan_embeddings, sv['GiffordsCourage'])"
   ]
  },
  {
   "cell_type": "code",
   "execution_count": 18,
   "id": "3301986f",
   "metadata": {},
   "outputs": [
    {
     "data": {
      "text/plain": [
       "0.31398708"
      ]
     },
     "execution_count": 18,
     "metadata": {},
     "output_type": "execute_result"
    }
   ],
   "source": [
    "sv.get_similarity(nirlotan_embeddings, sv['GunOwners'])"
   ]
  },
  {
   "cell_type": "code",
   "execution_count": null,
   "id": "4c43e218",
   "metadata": {},
   "outputs": [],
   "source": []
  }
 ],
 "metadata": {
  "kernelspec": {
   "display_name": "Python 3 (ipykernel)",
   "language": "python",
   "name": "python3"
  },
  "language_info": {
   "codemirror_mode": {
    "name": "ipython",
    "version": 3
   },
   "file_extension": ".py",
   "mimetype": "text/x-python",
   "name": "python",
   "nbconvert_exporter": "python",
   "pygments_lexer": "ipython3",
   "version": "3.9.6"
  }
 },
 "nbformat": 4,
 "nbformat_minor": 5
}
