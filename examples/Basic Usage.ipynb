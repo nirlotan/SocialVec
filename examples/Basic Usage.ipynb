{
 "cells": [
  {
   "cell_type": "markdown",
   "id": "b161c693",
   "metadata": {
    "pycharm": {
     "name": "#%% md\n"
    }
   },
   "source": [
    "# SocialVec Examples"
   ]
  },
  {
   "cell_type": "markdown",
   "id": "4714d970",
   "metadata": {
    "pycharm": {
     "name": "#%% md\n"
    }
   },
   "source": [
    "## Import and initializations"
   ]
  },
  {
   "cell_type": "markdown",
   "id": "7744751d",
   "metadata": {
    "pycharm": {
     "name": "#%% md\n"
    }
   },
   "source": [
    "The below cell is only needed to import a local version that was not install using pip"
   ]
  },
  {
   "cell_type": "code",
   "execution_count": null,
   "id": "35626b88",
   "metadata": {
    "pycharm": {
     "name": "#%%\n"
    }
   },
   "outputs": [],
   "source": [
    "import os\n",
    "import sys\n",
    "from pathlib import Path\n",
    "package_dir = os.path.join(Path(os.getcwd()).parent.absolute(),'socialvec')\n",
    "sys.path.append(os.path.dirname(package_dir))"
   ]
  },
  {
   "cell_type": "markdown",
   "id": "dd7f3b2c",
   "metadata": {
    "pycharm": {
     "name": "#%% md\n"
    }
   },
   "source": [
    "if you install the package using pip you can simply import it as below"
   ]
  },
  {
   "cell_type": "code",
   "execution_count": null,
   "outputs": [],
   "source": [
    "%pip install --proxy=http://proxy-chain.intel.com:911 fastparquet"
   ],
   "metadata": {
    "collapsed": false
   }
  },
  {
   "cell_type": "code",
   "execution_count": null,
   "id": "ac691195",
   "metadata": {
    "pycharm": {
     "name": "#%%\n"
    }
   },
   "outputs": [],
   "source": [
    "from socialvec.socialvec import SocialVec\n",
    "sv = SocialVec()\n",
    "#from socialvec.socialvec import SocialVecClassifier"
   ]
  },
  {
   "cell_type": "code",
   "execution_count": null,
   "id": "90713b8e",
   "metadata": {
    "pycharm": {
     "name": "#%%\n"
    }
   },
   "outputs": [],
   "source": []
  },
  {
   "cell_type": "markdown",
   "id": "4e824686",
   "metadata": {
    "pycharm": {
     "name": "#%% md\n"
    }
   },
   "source": [
    "## Basic Usage Examples"
   ]
  },
  {
   "cell_type": "markdown",
   "id": "fa80b7bf",
   "metadata": {
    "pycharm": {
     "name": "#%% md\n"
    }
   },
   "source": [
    "### Get a vector of a user using twitterid (string or integer), or by username"
   ]
  },
  {
   "cell_type": "code",
   "execution_count": null,
   "outputs": [],
   "source": [],
   "metadata": {
    "collapsed": false
   }
  },
  {
   "cell_type": "code",
   "execution_count": null,
   "id": "e9a82ec0",
   "metadata": {
    "pycharm": {
     "name": "#%%\n"
    }
   },
   "outputs": [],
   "source": [
    "sv[12]"
   ]
  },
  {
   "cell_type": "code",
   "execution_count": null,
   "id": "1bc85c9e",
   "metadata": {
    "pycharm": {
     "name": "#%%\n"
    }
   },
   "outputs": [],
   "source": [
    "sv[\"12\"]"
   ]
  },
  {
   "cell_type": "code",
   "execution_count": null,
   "id": "479fc176",
   "metadata": {
    "pycharm": {
     "name": "#%%\n"
    }
   },
   "outputs": [],
   "source": [
    "sv[\"jack\"]"
   ]
  },
  {
   "cell_type": "markdown",
   "id": "b5c0ee0f",
   "metadata": {
    "pycharm": {
     "name": "#%% md\n"
    }
   },
   "source": [
    "### Get similar users"
   ]
  },
  {
   "cell_type": "code",
   "execution_count": null,
   "id": "32aeb49e",
   "metadata": {
    "pycharm": {
     "name": "#%%\n"
    }
   },
   "outputs": [],
   "source": [
    "sv.get_similar('jack')"
   ]
  },
  {
   "cell_type": "markdown",
   "id": "873e89fc",
   "metadata": {
    "pycharm": {
     "name": "#%% md\n"
    }
   },
   "source": [
    "### Get the average embeddings of multiple users\n",
    "When we want to get the embeddings of a user that is not a popular entity, we collect the list of accounts that this user follows, and provide it to the get_average_embeddings function. This function will return the embedding vector for this user.\n",
    "\n",
    "** This function currently only supports getting a list of user IDs **"
   ]
  },
  {
   "cell_type": "code",
   "execution_count": null,
   "id": "eacce462",
   "metadata": {},
   "outputs": [],
   "source": [
    "sv.get_userid('madonna')"
   ]
  },
  {
   "cell_type": "code",
   "execution_count": null,
   "id": "37f0fad0",
   "metadata": {
    "pycharm": {
     "name": "#%%\n"
    }
   },
   "outputs": [],
   "source": [
    "v = sv.get_average_embeddings([sv.get_userid('rihanna'),\n",
    "                               sv.get_userid('arianagrande'),\n",
    "                               sv.get_userid('madonna')])\n",
    "\n",
    "\n",
    "sv.get_similar(v[0])"
   ]
  },
  {
   "cell_type": "markdown",
   "id": "08060504",
   "metadata": {
    "pycharm": {
     "name": "#%% md\n"
    }
   },
   "source": [
    "## Get similar to multiple users\n",
    "The function get similar can also get a list of twitter IDs, and will return the most similar list for the average of these users"
   ]
  },
  {
   "cell_type": "code",
   "execution_count": null,
   "id": "3a70a71d",
   "metadata": {
    "pycharm": {
     "name": "#%%\n"
    }
   },
   "outputs": [],
   "source": [
    "edu = ['Harvard','MIT','UCLA']\n",
    "edu_ids = [ sv.get_userid(id) for id in edu]\n",
    "\n",
    "sports = ['FCBarcelona','ManUtd','realmadrid']\n",
    "sports_ids = [ sv.get_userid(id) for id in sports]"
   ]
  },
  {
   "cell_type": "code",
   "execution_count": null,
   "id": "d3e5b301",
   "metadata": {
    "pycharm": {
     "name": "#%%\n"
    }
   },
   "outputs": [],
   "source": [
    "sv.get_similar(edu_ids).head(3)"
   ]
  },
  {
   "cell_type": "code",
   "execution_count": null,
   "id": "e74242d3",
   "metadata": {
    "pycharm": {
     "name": "#%%\n"
    }
   },
   "outputs": [],
   "source": [
    "sv.get_similar(sports_ids).head(3)"
   ]
  },
  {
   "cell_type": "markdown",
   "id": "93a35bc4",
   "metadata": {
    "pycharm": {
     "name": "#%%\n"
    }
   },
   "source": [
    "## Get similarity"
   ]
  },
  {
   "cell_type": "code",
   "execution_count": null,
   "id": "92f709df",
   "metadata": {
    "pycharm": {
     "name": "#%%\n"
    }
   },
   "outputs": [],
   "source": [
    "sv.get_similarity('barackobama', 'realdonaldtrump')"
   ]
  },
  {
   "cell_type": "markdown",
   "id": "c143718e",
   "metadata": {
    "pycharm": {
     "name": "#%% md\n"
    }
   },
   "source": [
    "### get similarity for a vector"
   ]
  },
  {
   "cell_type": "code",
   "execution_count": null,
   "id": "2ea71726",
   "metadata": {
    "pycharm": {
     "name": "#%%\n"
    }
   },
   "outputs": [],
   "source": [
    "sv.get_similarity(sv[12], 'realdonaldtrump')"
   ]
  },
  {
   "cell_type": "markdown",
   "id": "dbc0d4b1",
   "metadata": {},
   "source": [
    "## Arithmetics fun"
   ]
  },
  {
   "cell_type": "code",
   "execution_count": null,
   "id": "6325f2cb",
   "metadata": {},
   "outputs": [],
   "source": [
    "positive=['woman', 'king'], negative=['man']"
   ]
  },
  {
   "cell_type": "code",
   "execution_count": null,
   "id": "e4d0c712",
   "metadata": {},
   "outputs": [],
   "source": [
    "ida = sv.get_userid('BarackObama')\n",
    "idb = sv.get_userid('BillClinton')\n",
    "idc = sv.get_userid('hillaryclinton')"
   ]
  },
  {
   "cell_type": "code",
   "execution_count": null,
   "id": "5afa8a55",
   "metadata": {},
   "outputs": [],
   "source": [
    "sv.get_screen_name(sv.sv.wv.most_similar(positive=[sv.get_userid('BarackObama'), sv.get_userid('michelleobama')],\n",
    "                                         negative=[sv.get_userid('JoeBiden')],\n",
    "                                         topn=1)[0][0])"
   ]
  },
  {
   "cell_type": "code",
   "execution_count": null,
   "id": "1e562b10",
   "metadata": {},
   "outputs": [],
   "source": [
    "sv.get_similar(sv['michelleobama'] - sv['POTUS44'] + sv['HillaryClinton'])"
   ]
  },
  {
   "cell_type": "markdown",
   "id": "57f85969",
   "metadata": {
    "pycharm": {
     "name": "#%% md\n"
    }
   },
   "source": [
    "# Classification Examples"
   ]
  },
  {
   "cell_type": "markdown",
   "id": "6c111f3f",
   "metadata": {},
   "source": [
    "# Get the embeddings of any user which is not popular"
   ]
  },
  {
   "cell_type": "code",
   "execution_count": null,
   "id": "2aaf3944",
   "metadata": {},
   "outputs": [],
   "source": [
    "import toml\n",
    "import tweepy"
   ]
  },
  {
   "cell_type": "code",
   "execution_count": null,
   "id": "dd100cb8",
   "metadata": {},
   "outputs": [],
   "source": [
    "tweepy_config = toml.load(\"tweepy.toml\")\n",
    "tweepy_credentials = tweepy_config['credentials']"
   ]
  },
  {
   "cell_type": "code",
   "execution_count": null,
   "id": "770f22f6",
   "metadata": {},
   "outputs": [],
   "source": [
    "auth = tweepy.OAuthHandler(tweepy_credentials['consumer_key'], tweepy_credentials['consumer_secret'])\n",
    "auth.set_access_token(tweepy_credentials['access_token'], tweepy_credentials['access_token_secret'])\n",
    "api = tweepy.API(auth, proxy=\"http://proxy-chain.intel.com:911\") # optionally add proxy, e.g.: proxy=\"http://proxy-chain.intel.com:911\""
   ]
  },
  {
   "cell_type": "code",
   "execution_count": null,
   "id": "b46423c0",
   "metadata": {},
   "outputs": [],
   "source": [
    "friends = api.get_friend_ids(screen_name=\"nirlotan\")"
   ]
  },
  {
   "cell_type": "code",
   "execution_count": null,
   "id": "9427abe0",
   "metadata": {},
   "outputs": [],
   "source": [
    "nirlotan_embeddings = sv.get_average_embeddings(friends)[0]"
   ]
  },
  {
   "cell_type": "code",
   "execution_count": null,
   "id": "4c67b308",
   "metadata": {},
   "outputs": [],
   "source": [
    "sv.get_similar(nirlotan_embeddings)"
   ]
  },
  {
   "cell_type": "markdown",
   "source": [
    "# Init Clasffier\n",
    "\n",
    "Currently classification only works with model version 2020c"
   ],
   "metadata": {
    "collapsed": false
   }
  },
  {
   "cell_type": "code",
   "execution_count": null,
   "outputs": [],
   "source": [
    "from socialvec.socialvec import SocialVec\n",
    "sv = SocialVec(model_name=\"2020c\")\n"
   ],
   "metadata": {
    "collapsed": false
   }
  },
  {
   "cell_type": "code",
   "execution_count": null,
   "id": "0d7c569e",
   "metadata": {},
   "outputs": [],
   "source": [
    "sv.init_classifier()"
   ]
  },
  {
   "cell_type": "code",
   "execution_count": null,
   "id": "5df79aec",
   "metadata": {},
   "outputs": [],
   "source": [
    "sv.classifier.predict(\"political\",sv['barackobama'])"
   ]
  },
  {
   "cell_type": "code",
   "execution_count": null,
   "id": "176ac94b",
   "metadata": {},
   "outputs": [],
   "source": [
    "sv.classifier.predict(\"political\",sv['NASA'])"
   ]
  },
  {
   "cell_type": "markdown",
   "source": [
    "# Test Classifiers"
   ],
   "metadata": {
    "collapsed": false
   }
  },
  {
   "cell_type": "code",
   "execution_count": null,
   "outputs": [],
   "source": [
    "from socialvec.socialvec import SocialVec\n",
    "sv = SocialVec(model_name=\"2020c\")\n",
    "sv.init_classifier()"
   ],
   "metadata": {
    "collapsed": false
   }
  },
  {
   "cell_type": "code",
   "execution_count": null,
   "outputs": [],
   "source": [
    "def check_classifier(single_user, expected_class, classifier_name):\n",
    "    user = sv.get_average_embeddings([sv.get_userid(single_user)])[0]\n",
    "    prediction = sv.classifier.predict(classifier_name, user)\n",
    "    if prediction[0] == expected_class:\n",
    "        print(f\"TEST PASSED. Expected: {expected_class}, Got: {prediction[0]}, confidence: {prediction[1]}\")\n",
    "    else:\n",
    "        print(f\"FAILED! Expected: {expected_class}, Got: {prediction[0]}, confidence: {prediction[1]}\")"
   ],
   "metadata": {
    "collapsed": false
   }
  },
  {
   "cell_type": "code",
   "execution_count": null,
   "outputs": [],
   "source": [
    "check_classifier(\"BarackObama\", \"Democrat\", \"political\")\n",
    "check_classifier(\"ChickfilA\", \"Republican\", \"political\")\n",
    "check_classifier(\"RapSheet\", \"Male\", \"gender\")\n",
    "check_classifier(\"ChelseaHouska\", \"Female\", \"gender\")\n",
    "check_classifier(\"RASHEEDA\", \"AfrAmerican\", \"ethnicity\")\n",
    "check_classifier(\"Country_Words\", \"Caucasian\", \"ethnicity\")\n",
    "check_classifier(\"NASA\", \"Degree\", \"education\")\n",
    "check_classifier(\"illuminatihotts\", \"HighSchool\", \"education\")\n",
    "check_classifier(\"ToysRUs\", \"Yes\", \"children\")\n",
    "check_classifier(\"donaldglover\", \"No\", \"children\")"
   ],
   "metadata": {
    "collapsed": false
   }
  },
  {
   "cell_type": "code",
   "execution_count": null,
   "outputs": [],
   "source": [],
   "metadata": {
    "collapsed": false
   }
  }
 ],
 "metadata": {
  "kernelspec": {
   "display_name": "Python 3 (ipykernel)",
   "language": "python",
   "name": "python3"
  },
  "language_info": {
   "codemirror_mode": {
    "name": "ipython",
    "version": 3
   },
   "file_extension": ".py",
   "mimetype": "text/x-python",
   "name": "python",
   "nbconvert_exporter": "python",
   "pygments_lexer": "ipython3",
   "version": "3.9.6"
  }
 },
 "nbformat": 4,
 "nbformat_minor": 5
}
